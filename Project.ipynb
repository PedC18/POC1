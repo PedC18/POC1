{
 "cells": [
  {
   "cell_type": "code",
   "execution_count": 130,
   "metadata": {},
   "outputs": [],
   "source": [
    "import pandas as pd\n",
    "import matplotlib.pyplot as plt\n",
    "from utils.Points import DivisionGames,DivisionSets,RallyParsing, RallyParsing, RallyExtraction\n",
    "from utils.Visuals import GetCourt\n",
    "from utils.SeqMining import CallPrefixSpan,check_list_contained,SortPatterns,Seqmining,GetStrokes,Sequencer,find_contiguous_patterns,PatternsByStat\n",
    "import numpy as np\n",
    "import os\n",
    "import csv\n",
    "import warnings\n",
    "from sportypy.surfaces.tennis import ATPCourt, TennisCourt"
   ]
  },
  {
   "cell_type": "code",
   "execution_count": 131,
   "metadata": {},
   "outputs": [],
   "source": [
    "pd.options.display.max_columns = None\n",
    "warnings.filterwarnings('ignore')"
   ]
  },
  {
   "cell_type": "code",
   "execution_count": 209,
   "metadata": {},
   "outputs": [],
   "source": [
    "warnings.filterwarnings('ignore')\n",
    "matches = pd.read_csv('BaseData/charting-m-matches.csv', encoding='unicode_escape',quoting=csv.QUOTE_NONE)\n",
    "points = pd.read_csv('ProjData/Points.csv',encoding='unicode_escape',quoting=csv.QUOTE_NONE)\n",
    "\n",
    "FedererGames = pd.read_csv('Federer_data/FedererMiddle.csv')"
   ]
  },
  {
   "cell_type": "code",
   "execution_count": 212,
   "metadata": {},
   "outputs": [],
   "source": [
    "a = ['S','R']\n",
    "FedererPoints = pd.read_csv('Federer_data/PointsFedererMiddle.csv')\n",
    "FedererPoints = FedererPoints[~FedererPoints['1st'].isin(a)]"
   ]
  },
  {
   "cell_type": "markdown",
   "metadata": {},
   "source": [
    "# Wins and Losses"
   ]
  },
  {
   "cell_type": "code",
   "execution_count": 213,
   "metadata": {},
   "outputs": [],
   "source": [
    "FedererWins = FedererGames[FedererGames['Winner'] == True]\n",
    "FedererLosses = FedererGames[FedererGames['Winner'] == False]"
   ]
  },
  {
   "cell_type": "code",
   "execution_count": 214,
   "metadata": {},
   "outputs": [],
   "source": [
    "FedererPointsInWins = FedererPoints[FedererPoints['match_id'].isin(FedererWins['match_id'])]\n",
    "FedererPointsInLosses = FedererPoints[FedererPoints['match_id'].isin(FedererLosses['match_id'])]"
   ]
  },
  {
   "cell_type": "code",
   "execution_count": 215,
   "metadata": {},
   "outputs": [],
   "source": [
    "FedererPointsWonInWins = FedererPointsInWins[FedererPointsInWins['Victor'] == True]\n",
    "FedererPointsLostInWins = FedererPointsInWins[FedererPointsInWins['Victor'] == False]"
   ]
  },
  {
   "cell_type": "code",
   "execution_count": 262,
   "metadata": {},
   "outputs": [],
   "source": [
    "def Stats(Points,Matches,surface= None,result=None,pt_results= None,serve =None):\n",
    "    \n",
    "    if result != None:\n",
    "        Matches = Matches[Matches['Winner'] == result]\n",
    "    if surface != None:\n",
    "        Matches = Matches[Matches['Surface'] == surface]\n",
    "\n",
    "    data = Points[Points['match_id'].isin(Matches['match_id'])]\n",
    "\n",
    "    if pt_results != None:\n",
    "        data = data[data['Victor'] == pt_results]\n",
    "    \n",
    "    if serve != None:\n",
    "        data = data[data['Server'] == serve]\n",
    "\n",
    "    WinRate = round(data['Winner'].value_counts(normalize=True),4)\n",
    "    AceRate = round(data['Ace'].value_counts(normalize=True),4)\n",
    "    DoubleFRate = round(data['Double Fault'].value_counts(normalize=True),4)\n",
    "    FERate = round(data['Forced Error'].value_counts(normalize=True),4)\n",
    "    UFERate = round(data['Unforced Error'].value_counts(normalize=True),4)\n",
    "    print(f'Aces => {float(AceRate[True])}')\n",
    "    print(f'Winners => {float(WinRate[True])}')\n",
    "    print(f'Forced Errors => {float(FERate[True])}')\n",
    "    print(f'Unforced Errors => {float(UFERate[True])}')\n",
    "    print(f'Double Faults => {float(DoubleFRate[True])} \\n')\n",
    "    return [float(WinRate[True]),float(AceRate[True]),float(DoubleFRate[True]),float(FERate[True]),float(UFERate[True])]"
   ]
  },
  {
   "cell_type": "code",
   "execution_count": 220,
   "metadata": {},
   "outputs": [],
   "source": [
    "PointTypees = ['Winner','Ace','Double Fault','Forced Error','Unforced Error']"
   ]
  },
  {
   "cell_type": "code",
   "execution_count": 263,
   "metadata": {},
   "outputs": [
    {
     "name": "stdout",
     "output_type": "stream",
     "text": [
      "Percentages of Points: \n",
      " --------------------------------------------\n",
      "Aces => 0.0836\n",
      "Winners => 0.259\n",
      "Forced Errors => 0.3524\n",
      "Unforced Errors => 0.2749\n",
      "Double Faults => 0.0301 \n",
      "\n"
     ]
    }
   ],
   "source": [
    "print('Percentages of Points: \\n --------------------------------------------')\n",
    "data = [Stats(FedererPoints,FedererGames,pt_results=True)]\n"
   ]
  },
  {
   "cell_type": "code",
   "execution_count": 264,
   "metadata": {},
   "outputs": [
    {
     "name": "stdout",
     "output_type": "stream",
     "text": [
      "Percentages of Points in Wins: \n",
      " --------------------------------------------\n",
      "Aces => 0.0846\n",
      "Winners => 0.2581\n",
      "Forced Errors => 0.3453\n",
      "Unforced Errors => 0.2801\n",
      "Double Faults => 0.0319 \n",
      "\n",
      "Percentages of Points in Losses: \n",
      " --------------------------------------------\n",
      "Aces => 0.0815\n",
      "Winners => 0.2611\n",
      "Forced Errors => 0.3676\n",
      "Unforced Errors => 0.2636\n",
      "Double Faults => 0.0263 \n",
      "\n"
     ]
    }
   ],
   "source": [
    "print('Percentages of Points in Wins: \\n --------------------------------------------')\n",
    "data = [Stats(FedererPoints,FedererGames,result=True,pt_results=True)]\n",
    "\n",
    "print('Percentages of Points in Losses: \\n --------------------------------------------')\n",
    "data = [Stats(FedererPoints,FedererGames,result=False,pt_results=True)]"
   ]
  },
  {
   "cell_type": "code",
   "execution_count": 265,
   "metadata": {},
   "outputs": [
    {
     "name": "stdout",
     "output_type": "stream",
     "text": [
      "Percentages of Points in Wins on Grass: \n",
      " --------------------------------------------\n",
      "Aces => 0.0903\n",
      "Winners => 0.2768\n",
      "Forced Errors => 0.3715\n",
      "Unforced Errors => 0.2383\n",
      "Double Faults => 0.0231 \n",
      "\n",
      "Percentages of Points in Losses on Grass: \n",
      " --------------------------------------------\n",
      "Aces => 0.1136\n",
      "Winners => 0.2559\n",
      "Forced Errors => 0.393\n",
      "Unforced Errors => 0.218\n",
      "Double Faults => 0.0196 \n",
      "\n",
      "Percentages of Points in Wins on Hard: \n",
      " --------------------------------------------\n",
      "Aces => 0.0858\n",
      "Winners => 0.2496\n",
      "Forced Errors => 0.3388\n",
      "Unforced Errors => 0.2911\n",
      "Double Faults => 0.0347 \n",
      "\n",
      "Percentages of Points in Losses on Hard: \n",
      " --------------------------------------------\n",
      "Aces => 0.0775\n",
      "Winners => 0.2586\n",
      "Forced Errors => 0.3642\n",
      "Unforced Errors => 0.2696\n",
      "Double Faults => 0.0302 \n",
      "\n",
      "Percentages of Points in Wins on Clay: \n",
      " --------------------------------------------\n",
      "Aces => 0.0751\n",
      "Winners => 0.2677\n",
      "Forced Errors => 0.3406\n",
      "Unforced Errors => 0.2855\n",
      "Double Faults => 0.0312 \n",
      "\n",
      "Percentages of Points in Losses on Clay: \n",
      " --------------------------------------------\n",
      "Aces => 0.0697\n",
      "Winners => 0.2692\n",
      "Forced Errors => 0.3587\n",
      "Unforced Errors => 0.2795\n",
      "Double Faults => 0.023 \n",
      "\n"
     ]
    }
   ],
   "source": [
    "print('Percentages of Points in Wins on Grass: \\n --------------------------------------------')\n",
    "data = [Stats(FedererPoints,FedererGames,surface='Grass',result=True,pt_results=True)]\n",
    "\n",
    "print('Percentages of Points in Losses on Grass: \\n --------------------------------------------')\n",
    "data = [Stats(FedererPoints,FedererGames,surface='Grass',result=False,pt_results=True)]\n",
    "\n",
    "print('Percentages of Points in Wins on Hard: \\n --------------------------------------------')\n",
    "data = [Stats(FedererPoints,FedererGames,surface='Hard',result=True,pt_results=True)]\n",
    "\n",
    "print('Percentages of Points in Losses on Hard: \\n --------------------------------------------')\n",
    "data = [Stats(FedererPoints,FedererGames,surface='Hard',result=False,pt_results=True)]\n",
    "\n",
    "print('Percentages of Points in Wins on Clay: \\n --------------------------------------------')\n",
    "data = [Stats(FedererPoints,FedererGames,surface='Clay',result=True,pt_results=True)]\n",
    "\n",
    "print('Percentages of Points in Losses on Clay: \\n --------------------------------------------')\n",
    "data = [Stats(FedererPoints,FedererGames,surface='Clay',result=False,pt_results=True)]"
   ]
  },
  {
   "cell_type": "code",
   "execution_count": 226,
   "metadata": {},
   "outputs": [],
   "source": [
    "def PlotGraph(data,surface, columns, won):\n",
    "\n",
    "    Won = data[0]\n",
    "    Lost = data[1]\n",
    "    barWidth = 0.25\n",
    "    \n",
    "    plt.subplots(figsize =(8, 4))\n",
    "    br1 = np.arange(len(Won)) \n",
    "    br2 = [x + barWidth for x in br1] \n",
    "    plt.bar(br1, Won, color= 'blue', alpha = 0.7,\n",
    "            width = barWidth)\n",
    "    plt.bar(br2, Lost, color= 'red', alpha = 0.7,\n",
    "            width = barWidth)\n",
    "    \n",
    "    plt.xticks([r + barWidth for r in range(len(columns))], \n",
    "            columns)\n",
    "\n",
    "    \n",
    "    plt.ylabel(\"Percentages\")\n",
    "    plt.title(f\"Result of Points for Federer in Games {won}\")\n",
    "    plt.legend(['Won','Lost'])\n",
    "\n",
    "    plt.show()"
   ]
  },
  {
   "cell_type": "code",
   "execution_count": 227,
   "metadata": {},
   "outputs": [],
   "source": [
    "# PlotGraph(data,'cl',PointTypees,'Won')"
   ]
  },
  {
   "cell_type": "markdown",
   "metadata": {},
   "source": [
    "# Saques e Recepções"
   ]
  },
  {
   "cell_type": "code",
   "execution_count": 228,
   "metadata": {},
   "outputs": [],
   "source": [
    "FedererServesPoints = FedererPoints[FedererPoints['Server'] == True]\n",
    "FedererReceptionPoints = FedererPoints[FedererPoints['Server'] == False]\n",
    "\n",
    "FedererServesW = FedererServesPoints[FedererServesPoints['Victor'] == True]\n",
    "FedererServesL = FedererServesPoints[FedererServesPoints['Victor'] == False]\n",
    "\n",
    "FedererReceptionW= FedererReceptionPoints[FedererReceptionPoints['Victor'] == True]\n",
    "FedererReceptionL= FedererReceptionPoints[FedererReceptionPoints['Victor'] == False]"
   ]
  },
  {
   "cell_type": "markdown",
   "metadata": {},
   "source": [
    "# Games e Sets Stats"
   ]
  },
  {
   "cell_type": "code",
   "execution_count": 229,
   "metadata": {},
   "outputs": [],
   "source": [
    "FedererServePointsGameW = FedererServesPoints[FedererServesPoints['GameWinner'] == True]\n",
    "FedererServePointsGameL = FedererServesPoints[FedererServesPoints['GameWinner'] == False]\n",
    "\n",
    "FedererServePointsSetW = FedererServesPoints[FedererServesPoints['SetWinner'] == True]\n",
    "FedererServePointsSetL = FedererServesPoints[FedererServesPoints['SetWinner'] == False]\n",
    "\n",
    "FedererReceptionPointsGameW = FedererReceptionPoints[FedererReceptionPoints['GameWinner'] == True]\n",
    "FedererReceptionPointsGameL = FedererReceptionPoints[FedererReceptionPoints['GameWinner'] == False]\n",
    "\n",
    "FedererReceptionPointsSetW = FedererReceptionPoints[FedererReceptionPoints['SetWinner'] == True]\n",
    "FedererReceptionPointsSetL = FedererReceptionPoints[FedererReceptionPoints['SetWinner'] == False]"
   ]
  },
  {
   "cell_type": "code",
   "execution_count": 230,
   "metadata": {},
   "outputs": [],
   "source": [
    "SetDict = DivisionSets(FedererPoints,FedererPoints['match_id'].unique())"
   ]
  },
  {
   "cell_type": "code",
   "execution_count": 231,
   "metadata": {},
   "outputs": [],
   "source": [
    "def MeanPoints(division):\n",
    "    Mean = 0\n",
    "    Divisions = []\n",
    "    num_divisions = 0\n",
    "    for k in division.keys():\n",
    "        divisions = 0\n",
    "        Match = division[k]\n",
    "        divisions = len(Match)\n",
    "        num_divisions += divisions\n",
    "\n",
    "        for d in Match:\n",
    "            Mean += len(d)\n",
    "        \n",
    "        Divisions.append(divisions)\n",
    "    \n",
    "    return (Mean/num_divisions, Divisions)"
   ]
  },
  {
   "cell_type": "markdown",
   "metadata": {},
   "source": [
    "# Visualizações"
   ]
  },
  {
   "cell_type": "code",
   "execution_count": 232,
   "metadata": {},
   "outputs": [],
   "source": [
    "court = GetCourt('Grass')"
   ]
  },
  {
   "cell_type": "code",
   "execution_count": 233,
   "metadata": {},
   "outputs": [
    {
     "data": {
      "image/png": "[encoded data removed]",
      "text/plain": [
       "<Figure size 1600x600 with 6 Axes>"
      ]
     },
     "metadata": {},
     "output_type": "display_data"
    }
   ],
   "source": [
    "fig, ax = plt.subplots(figsize=(16,6),nrows=(2),ncols=(3))\n",
    "\n",
    "ax[0][0].set_title('Forehand 1')\n",
    "ax[0][1].set_title('Forehand 2')\n",
    "ax[0][2].set_title('Forehand 3')\n",
    "court.draw(ax=ax[0][0],display_range='full')\n",
    "court.draw(ax=ax[0][1],display_range='full')\n",
    "court.draw(ax=ax[0][2],display_range='full')\n",
    "court.arrow(ax=ax[0][0],x1= -39.0, y1= -13.0, x2=39.0, y2=13.0,color= 'blue')\n",
    "court.arrow(ax=ax[0][1],x1= -39.0, y1= -13.0, x2=39.0, y2=0,color= 'blue')\n",
    "court.arrow(ax=ax[0][2],x1= -39.0, y1= -12.0, x2=39.0, y2=-12.0,color= 'blue')\n",
    "\n",
    "ax[1][0].set_title('Backhand 1')\n",
    "ax[1][1].set_title('Backhand 2')\n",
    "ax[1][2].set_title('Backhand 3')\n",
    "court.draw(ax=ax[1][0],display_range='full')\n",
    "court.draw(ax=ax[1][1],display_range='full')\n",
    "court.draw(ax=ax[1][2],display_range='full')\n",
    "court.arrow(ax=ax[1][0],x1= -39.0, y1= -12.0, x2=39.0, y2=-12.0,color= 'blue')\n",
    "court.arrow(ax=ax[1][1],x1= -39.0, y1= 13.0, x2=39.0, y2=0,color= 'blue')\n",
    "court.arrow(ax=ax[1][2],x1= -39.0, y1= 13.0, x2=39.0, y2=-13.0,color= 'blue')\n",
    "\n",
    "axes = ax.ravel()\n",
    "\n",
    "fig.tight_layout()\n",
    "fig.text(s='Dois Jogadores Destros',y=0.0,x=0.0)\n",
    "plt.show()"
   ]
  },
  {
   "cell_type": "code",
   "execution_count": 234,
   "metadata": {},
   "outputs": [],
   "source": [
    "Sequences, Endings = Sequencer(FedererServePointsGameW)\n",
    "Patterns = CallPrefixSpan(Sequences, 100, k=5)\n",
    "SortedPatterns = SortPatterns(Patterns)\n",
    "contiguous_patterns = find_contiguous_patterns(Sequences,30,k=5)\n",
    "SortedContiguousPatterns = SortPatterns(contiguous_patterns)"
   ]
  },
  {
   "cell_type": "code",
   "execution_count": 235,
   "metadata": {},
   "outputs": [],
   "source": [
    "WinnerPatterns = PatternsByStat('Winner',FedererServesW,20,4)"
   ]
  },
  {
   "cell_type": "code",
   "execution_count": 236,
   "metadata": {},
   "outputs": [],
   "source": [
    "FEPatterns = PatternsByStat('Forced Error',FedererPointsInWins,50,4)"
   ]
  },
  {
   "cell_type": "code",
   "execution_count": 237,
   "metadata": {},
   "outputs": [
    {
     "data": {
      "text/plain": [
       "[(54,\n",
       "  ('Backhand Paralelo',\n",
       "   'Backhand Paralelo',\n",
       "   'Backhand Paralelo',\n",
       "   'Backhand Paralelo'))]"
      ]
     },
     "execution_count": 237,
     "metadata": {},
     "output_type": "execute_result"
    }
   ],
   "source": [
    "FEPatterns"
   ]
  },
  {
   "cell_type": "markdown",
   "metadata": {},
   "source": [
    "# Stats"
   ]
  },
  {
   "cell_type": "code",
   "execution_count": 238,
   "metadata": {},
   "outputs": [],
   "source": [
    "# Create a function that returns these Stats divided by Start/ Middle/ End"
   ]
  },
  {
   "cell_type": "code",
   "execution_count": 239,
   "metadata": {},
   "outputs": [],
   "source": [
    "KP = pd.read_csv('BaseData/charting-m-stats-KeyPointsServe.csv')\n",
    "RallySize = pd.read_csv('BaseData/charting-m-stats-Rally.csv')"
   ]
  },
  {
   "cell_type": "code",
   "execution_count": 240,
   "metadata": {},
   "outputs": [],
   "source": [
    "rowsServe = ['Total','1-3','4-6','7-9','10']\n",
    "rowsIndx = ['match_id','1-3','4-6','7-9','10-']\n",
    "    \n",
    "PlayerRallyServe = RallySize[RallySize['server'] == 'Roger Federer'].drop(columns=['server','returner'])\n",
    "PlayerRallyServe = PlayerRallyServe[PlayerRallyServe['match_id'].isin(FedererGames['match_id'].unique())]\n",
    "PlayerRallyServe = PlayerRallyServe[~PlayerRallyServe['row'].isin(rowsServe)]\n",
    "PlayerRallyServe[['pl1_unforced','pl2_unforced']] = PlayerRallyServe[['pl2_unforced','pl1_unforced']]\n"
   ]
  },
  {
   "cell_type": "code",
   "execution_count": 241,
   "metadata": {},
   "outputs": [],
   "source": [
    "#pl1 actually means server, and pl2 actually means receiver"
   ]
  },
  {
   "cell_type": "code",
   "execution_count": 242,
   "metadata": {},
   "outputs": [],
   "source": [
    "RallySmall = PlayerRallyServe[(PlayerRallyServe['row'] == '1-3-1') | (PlayerRallyServe['row'] == '1-3-2')]\n",
    "RallyMedium = PlayerRallyServe[(PlayerRallyServe['row'] == '4-6-1') | (PlayerRallyServe['row'] == '4-6-2')]\n",
    "RallyBig = PlayerRallyServe[(PlayerRallyServe['row'] == '7-9-1') | (PlayerRallyServe['row'] == '7-9-2')]\n",
    "RallyOver = PlayerRallyServe[(PlayerRallyServe['row'] == '10-1') | (PlayerRallyServe['row'] == '10-2')]"
   ]
  },
  {
   "cell_type": "code",
   "execution_count": 243,
   "metadata": {},
   "outputs": [
    {
     "data": {
      "text/plain": [
       "match_id        20151122-M-Tour_Finals-F-Roger_Federer-Novak_D...\n",
       "row             10-110-110-110-110-210-210-210-110-110-210-110...\n",
       "pts                                                           902\n",
       "pl1_won                                                       393\n",
       "pl1_winners                                                   143\n",
       "pl1_forced                                                     95\n",
       "pl1_unforced                                                  155\n",
       "pl2_won                                                       509\n",
       "pl2_winners                                                   147\n",
       "pl2_forced                                                    132\n",
       "pl2_unforced                                                  227\n",
       "dtype: object"
      ]
     },
     "execution_count": 243,
     "metadata": {},
     "output_type": "execute_result"
    }
   ],
   "source": [
    "RallyOver.sum()"
   ]
  },
  {
   "cell_type": "code",
   "execution_count": 244,
   "metadata": {},
   "outputs": [],
   "source": [
    "rowsReturn = ['Total','1-3','4-6','7-9','10']\n",
    "rowsIndx = ['match_id','1-3','4-6','7-9','10-']\n",
    "    \n",
    "PlayerRallyReturn = RallySize[RallySize['returner'] == 'Roger Federer'].drop(columns=['server','returner'])\n",
    "PlayerRallyReturn = PlayerRallyReturn[PlayerRallyReturn['match_id'].isin(FedererWins['match_id'].unique())]\n",
    "PlayerRallyReturn = PlayerRallyReturn[~PlayerRallyReturn['row'].isin(rowsReturn)]\n",
    "PlayerRallyReturn[['pl1_unforced','pl2_unforced']] = PlayerRallyReturn[['pl2_unforced','pl1_unforced']]"
   ]
  },
  {
   "cell_type": "code",
   "execution_count": 245,
   "metadata": {},
   "outputs": [],
   "source": [
    "RallySmall = PlayerRallyReturn[(PlayerRallyReturn['row'] == '1-3-1') | (PlayerRallyReturn['row'] == '1-3-2')]\n",
    "RallyMedium = PlayerRallyReturn[(PlayerRallyReturn['row'] == '4-6-1') | (PlayerRallyReturn['row'] == '4-6-2')]\n",
    "RallyBig = PlayerRallyReturn[(PlayerRallyReturn['row'] == '7-9-1') | (PlayerRallyReturn['row'] == '7-9-2')]\n",
    "RallyOver = PlayerRallyReturn[(PlayerRallyReturn['row'] == '10-1') | (PlayerRallyReturn['row'] == '10-2')]"
   ]
  },
  {
   "cell_type": "code",
   "execution_count": 246,
   "metadata": {},
   "outputs": [
    {
     "data": {
      "text/plain": [
       "match_id        20151121-M-Tour_Finals-SF-Roger_Federer-Stan_W...\n",
       "row             1-3-21-3-21-3-21-3-11-3-11-3-11-3-21-3-21-3-11...\n",
       "pts                                                          5054\n",
       "pl1_won                                                      3690\n",
       "pl1_winners                                                  1047\n",
       "pl1_forced                                                   1836\n",
       "pl1_unforced                                                  808\n",
       "pl2_won                                                      1364\n",
       "pl2_winners                                                   133\n",
       "pl2_forced                                                    254\n",
       "pl2_unforced                                                  672\n",
       "dtype: object"
      ]
     },
     "execution_count": 246,
     "metadata": {},
     "output_type": "execute_result"
    }
   ],
   "source": [
    "RallySmall.sum()"
   ]
  },
  {
   "cell_type": "code",
   "execution_count": 247,
   "metadata": {},
   "outputs": [],
   "source": [
    "KP = KP[KP['match_id'].isin(FedererGames['match_id'])]\n",
    "FKP = KP[KP['player'] == 'Roger Federer']\n",
    "FKP = FKP.drop(columns='player')"
   ]
  },
  {
   "cell_type": "code",
   "execution_count": 248,
   "metadata": {},
   "outputs": [
    {
     "data": {
      "text/plain": [
       "array(['BP', 'GP', 'Deuce', 'STotal'], dtype=object)"
      ]
     },
     "execution_count": 248,
     "metadata": {},
     "output_type": "execute_result"
    }
   ],
   "source": [
    "FKP['row'].unique()"
   ]
  },
  {
   "cell_type": "code",
   "execution_count": 249,
   "metadata": {},
   "outputs": [],
   "source": [
    "FKP_BP = FKP[FKP['row'] == 'BP'].drop(columns='row')\n",
    "FKP_GP = FKP[FKP['row'] == 'GP'].drop(columns='row')\n",
    "FKP_Deuce = FKP[FKP['row'] == 'Deuce'].drop(columns='row')"
   ]
  },
  {
   "cell_type": "code",
   "execution_count": 250,
   "metadata": {},
   "outputs": [],
   "source": [
    "Aggregate_BP = FKP_BP.sum()\n",
    "Aggregate_GP = FKP_GP.sum()\n",
    "Aggregate_Deuce = FKP_Deuce.sum()"
   ]
  },
  {
   "cell_type": "code",
   "execution_count": 251,
   "metadata": {},
   "outputs": [],
   "source": [
    "Won = Aggregate_BP['pts_won'] / Aggregate_BP['pts']\n",
    "First = Aggregate_BP['first_in'] / Aggregate_BP['pts']\n",
    "\n",
    "# *We can use these Stats in different scenarios: % in games won vs. games lost \n",
    "#                                                   #"
   ]
  },
  {
   "cell_type": "code",
   "execution_count": 252,
   "metadata": {},
   "outputs": [
    {
     "data": {
      "text/plain": [
       "0.6542893725992317"
      ]
     },
     "execution_count": 252,
     "metadata": {},
     "output_type": "execute_result"
    }
   ],
   "source": [
    "Won"
   ]
  },
  {
   "cell_type": "code",
   "execution_count": 253,
   "metadata": {},
   "outputs": [],
   "source": [
    "Split = pd.read_csv('BaseData/charting-m-stats-SnV.csv')"
   ]
  },
  {
   "cell_type": "code",
   "execution_count": 254,
   "metadata": {},
   "outputs": [
    {
     "data": {
      "text/plain": [
       "array(['SnV', 'SnV1st', 'nonSnV', 'nonSnV1st', 'nonSnV2nd', 'SnV2nd'],\n",
       "      dtype=object)"
      ]
     },
     "execution_count": 254,
     "metadata": {},
     "output_type": "execute_result"
    }
   ],
   "source": [
    "Split['row'].unique()"
   ]
  },
  {
   "cell_type": "code",
   "execution_count": 255,
   "metadata": {},
   "outputs": [],
   "source": [
    "# Find the return patterns of a specific player\n",
    "FedererReceptionRallys = RallyExtraction(FedererReceptionPoints)\n",
    "Return = []\n",
    "Outcomes = []\n",
    "FedererReceptionRallys\n",
    "for r in FedererReceptionRallys:\n",
    "    Return.append(r[1:4])\n",
    "    Outcomes.append(r[-1])"
   ]
  },
  {
   "cell_type": "code",
   "execution_count": 256,
   "metadata": {},
   "outputs": [
    {
     "data": {
      "text/plain": [
       "'6f28f2b2f1r1f3n@'"
      ]
     },
     "execution_count": 256,
     "metadata": {},
     "output_type": "execute_result"
    }
   ],
   "source": [
    "r"
   ]
  },
  {
   "cell_type": "code",
   "execution_count": 257,
   "metadata": {},
   "outputs": [],
   "source": [
    "a = FedererGames[0:20]"
   ]
  },
  {
   "cell_type": "code",
   "execution_count": 258,
   "metadata": {},
   "outputs": [],
   "source": [
    "dictionary = {}"
   ]
  },
  {
   "cell_type": "code",
   "execution_count": 259,
   "metadata": {},
   "outputs": [],
   "source": [
    "ReturnDict = {\n",
    "    '0' : 'Serve',\n",
    "    '4' : 'Wide Serve',\n",
    "    '5' : 'Body Serve',\n",
    "    '6' : 'Down The T Serve',\n",
    "    'f' : 'Forehand',\n",
    "    'b' : 'Backhand',\n",
    "    'r' : 'FH Slice',\n",
    "    's' : 'BH Slice',\n",
    "    'v' : 'FH Volley',\n",
    "    'z' : 'BH Volley',\n",
    "    '1' : ' Cruzado',\n",
    "    '2' : ' Meio',\n",
    "    '3' : ' Paralelo',\n",
    "    '*' : 'Winner',\n",
    "    '@' : 'Forced Error',\n",
    "    '#' : 'Unforced Error',\n",
    "    'o' :'standard overhead/smash',\n",
    "    'p' :'backhand overhead/smash',\n",
    "    'u' :'forehand drop shot',\n",
    "    'y' :'backhand drop shot',\n",
    "    'l' :'forehand lob',\n",
    "    'm' :'backhand lob',\n",
    "    'h' :'forehand half-volley',\n",
    "    'i' :'backhand half-volley',\n",
    "    'j' :'forehand swinging volley',\n",
    "    'k' :'backhand swinging volley',\n",
    "    'n' : 'net',\n",
    "    'w' : 'wide' ,\n",
    "    'd' : 'deep',\n",
    "    'x' : 'both wide and deep',\n",
    "    'g' : 'foot faults',\n",
    "    't' : 'trick shot',\n",
    "    'q' : 'unknown',\n",
    "    'e' : 'any',\n",
    "    '7' : 'shallow',\n",
    "    '8' : 'mid',\n",
    "    '9' : 'deep'\n",
    "}"
   ]
  },
  {
   "cell_type": "code",
   "execution_count": 260,
   "metadata": {},
   "outputs": [],
   "source": [
    "Errors = ['n','w','d','x']"
   ]
  },
  {
   "cell_type": "code",
   "execution_count": null,
   "metadata": {},
   "outputs": [],
   "source": []
  }
 ],
 "metadata": {
  "kernelspec": {
   "display_name": "Python 3",
   "language": "python",
   "name": "python3"
  },
  "language_info": {
   "codemirror_mode": {
    "name": "ipython",
    "version": 3
   },
   "file_extension": ".py",
   "mimetype": "text/x-python",
   "name": "python",
   "nbconvert_exporter": "python",
   "pygments_lexer": "ipython3",
   "version": "3.12.4"
  }
 },
 "nbformat": 4,
 "nbformat_minor": 2
}
