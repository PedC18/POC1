{
 "cells": [
  {
   "cell_type": "code",
   "execution_count": 1,
   "metadata": {},
   "outputs": [],
   "source": [
    "import pandas as pd\n",
    "import matplotlib.pyplot as plt\n",
    "from utils.Points import DivisionGames,DivisionSets,RallyParsing, RallyParsing, RallyExtraction\n",
    "from utils.Visuals import GetCourt\n",
    "from utils.SeqMining import CallPrefixSpan,check_list_contained,SortPatterns,Seqmining,GetStrokes,Sequencer\n",
    "import numpy as np\n",
    "import os\n",
    "import csv\n",
    "import warnings\n",
    "from sportypy.surfaces.tennis import ATPCourt, TennisCourt"
   ]
  },
  {
   "cell_type": "code",
   "execution_count": 2,
   "metadata": {},
   "outputs": [],
   "source": [
    "pd.options.display.max_columns = None\n",
    "warnings.filterwarnings('ignore')"
   ]
  },
  {
   "cell_type": "code",
   "execution_count": 3,
   "metadata": {},
   "outputs": [],
   "source": [
    "warnings.filterwarnings('ignore')\n",
    "matches = pd.read_csv('BaseData/charting-m-matches.csv', encoding='unicode_escape',quoting=csv.QUOTE_NONE)\n",
    "points = pd.read_csv('ProjData/Points.csv',encoding='unicode_escape',quoting=csv.QUOTE_NONE)\n",
    "FedererGames = pd.read_csv('Federer_data/FedererStart.csv')"
   ]
  },
  {
   "cell_type": "code",
   "execution_count": 4,
   "metadata": {},
   "outputs": [
    {
     "data": {
      "text/html": [
       "<div>\n",
       "<style scoped>\n",
       "    .dataframe tbody tr th:only-of-type {\n",
       "        vertical-align: middle;\n",
       "    }\n",
       "\n",
       "    .dataframe tbody tr th {\n",
       "        vertical-align: top;\n",
       "    }\n",
       "\n",
       "    .dataframe thead th {\n",
       "        text-align: right;\n",
       "    }\n",
       "</style>\n",
       "<table border=\"1\" class=\"dataframe\">\n",
       "  <thead>\n",
       "    <tr style=\"text-align: right;\">\n",
       "      <th></th>\n",
       "      <th>match_id</th>\n",
       "      <th>Player 1</th>\n",
       "      <th>Player 2</th>\n",
       "      <th>Pl 1 hand</th>\n",
       "      <th>Pl 2 hand</th>\n",
       "      <th>Date</th>\n",
       "      <th>Tournament</th>\n",
       "      <th>Round</th>\n",
       "      <th>Time</th>\n",
       "      <th>Court</th>\n",
       "      <th>Surface</th>\n",
       "      <th>Umpire</th>\n",
       "      <th>Best of</th>\n",
       "      <th>Final TB?</th>\n",
       "      <th>Charted by</th>\n",
       "      <th>Winner</th>\n",
       "    </tr>\n",
       "  </thead>\n",
       "  <tbody>\n",
       "    <tr>\n",
       "      <th>0</th>\n",
       "      <td>20101128-M-Tour_Finals-F-Roger_Federer-Rafael_...</td>\n",
       "      <td>Roger Federer</td>\n",
       "      <td>Rafael Nadal</td>\n",
       "      <td>R</td>\n",
       "      <td>L</td>\n",
       "      <td>20101128</td>\n",
       "      <td>Tour Finals</td>\n",
       "      <td>F</td>\n",
       "      <td>18:45</td>\n",
       "      <td>Centre</td>\n",
       "      <td>Hard</td>\n",
       "      <td>Mohamed Lahyani</td>\n",
       "      <td>3</td>\n",
       "      <td>1</td>\n",
       "      <td>Edo</td>\n",
       "      <td>True</td>\n",
       "    </tr>\n",
       "    <tr>\n",
       "      <th>1</th>\n",
       "      <td>20101126-M-Tour_Finals-SF-Roger_Federer-Novak_...</td>\n",
       "      <td>Roger Federer</td>\n",
       "      <td>Novak Djokovic</td>\n",
       "      <td>R</td>\n",
       "      <td>R</td>\n",
       "      <td>20101126</td>\n",
       "      <td>Tour Finals</td>\n",
       "      <td>SF</td>\n",
       "      <td>NaN</td>\n",
       "      <td>NaN</td>\n",
       "      <td>Hard</td>\n",
       "      <td>NaN</td>\n",
       "      <td>3</td>\n",
       "      <td>1</td>\n",
       "      <td>Isaac</td>\n",
       "      <td>True</td>\n",
       "    </tr>\n",
       "    <tr>\n",
       "      <th>2</th>\n",
       "      <td>20101121-M-Tour_Finals-RR-Andy_Murray-Roger_Fe...</td>\n",
       "      <td>Andy Murray</td>\n",
       "      <td>Roger Federer</td>\n",
       "      <td>R</td>\n",
       "      <td>R</td>\n",
       "      <td>20101121</td>\n",
       "      <td>Tour Finals</td>\n",
       "      <td>RR</td>\n",
       "      <td>NaN</td>\n",
       "      <td>Centre Court</td>\n",
       "      <td>Hard</td>\n",
       "      <td>NaN</td>\n",
       "      <td>3</td>\n",
       "      <td>1</td>\n",
       "      <td>Isaac</td>\n",
       "      <td>True</td>\n",
       "    </tr>\n",
       "    <tr>\n",
       "      <th>3</th>\n",
       "      <td>20101111-M-Paris_Masters-SF-Roger_Federer-Gael...</td>\n",
       "      <td>Roger Federer</td>\n",
       "      <td>Gael Monfils</td>\n",
       "      <td>R</td>\n",
       "      <td>R</td>\n",
       "      <td>20101111</td>\n",
       "      <td>Paris Masters</td>\n",
       "      <td>SF</td>\n",
       "      <td>5pm</td>\n",
       "      <td>Centre</td>\n",
       "      <td>Hard</td>\n",
       "      <td>Fergus Murphy</td>\n",
       "      <td>3</td>\n",
       "      <td>1</td>\n",
       "      <td>Edo</td>\n",
       "      <td>False</td>\n",
       "    </tr>\n",
       "    <tr>\n",
       "      <th>4</th>\n",
       "      <td>20101107-M-Basel-F-Novak_Djokovic-Roger_Federer</td>\n",
       "      <td>Novak Djokovic</td>\n",
       "      <td>Roger Federer</td>\n",
       "      <td>R</td>\n",
       "      <td>R</td>\n",
       "      <td>20101107</td>\n",
       "      <td>Basel</td>\n",
       "      <td>F</td>\n",
       "      <td>16:10</td>\n",
       "      <td>Centre</td>\n",
       "      <td>Hard</td>\n",
       "      <td>Mohamed Lahyani</td>\n",
       "      <td>3</td>\n",
       "      <td>1</td>\n",
       "      <td>Edo</td>\n",
       "      <td>True</td>\n",
       "    </tr>\n",
       "    <tr>\n",
       "      <th>...</th>\n",
       "      <td>...</td>\n",
       "      <td>...</td>\n",
       "      <td>...</td>\n",
       "      <td>...</td>\n",
       "      <td>...</td>\n",
       "      <td>...</td>\n",
       "      <td>...</td>\n",
       "      <td>...</td>\n",
       "      <td>...</td>\n",
       "      <td>...</td>\n",
       "      <td>...</td>\n",
       "      <td>...</td>\n",
       "      <td>...</td>\n",
       "      <td>...</td>\n",
       "      <td>...</td>\n",
       "      <td>...</td>\n",
       "    </tr>\n",
       "    <tr>\n",
       "      <th>189</th>\n",
       "      <td>20050220-M-Rotterdam-F-Roger_Federer-Ivan_Ljub...</td>\n",
       "      <td>Roger Federer</td>\n",
       "      <td>Ivan Ljubicic</td>\n",
       "      <td>R</td>\n",
       "      <td>R</td>\n",
       "      <td>20050220</td>\n",
       "      <td>Rotterdam</td>\n",
       "      <td>F</td>\n",
       "      <td>15:05</td>\n",
       "      <td>Centre</td>\n",
       "      <td>Hard</td>\n",
       "      <td>Mohamed Lahyani</td>\n",
       "      <td>3</td>\n",
       "      <td>1</td>\n",
       "      <td>Edo</td>\n",
       "      <td>True</td>\n",
       "    </tr>\n",
       "    <tr>\n",
       "      <th>190</th>\n",
       "      <td>20050127-M-Australian_Open-SF-Roger_Federer-Ma...</td>\n",
       "      <td>Roger Federer</td>\n",
       "      <td>Marat Safin</td>\n",
       "      <td>R</td>\n",
       "      <td>R</td>\n",
       "      <td>20050127</td>\n",
       "      <td>Australian Open</td>\n",
       "      <td>SF</td>\n",
       "      <td>20:00</td>\n",
       "      <td>Centre</td>\n",
       "      <td>Hard</td>\n",
       "      <td>Enric Molina</td>\n",
       "      <td>5</td>\n",
       "      <td>0</td>\n",
       "      <td>1HandBH</td>\n",
       "      <td>False</td>\n",
       "    </tr>\n",
       "    <tr>\n",
       "      <th>191</th>\n",
       "      <td>20050126-M-Australian_Open-QF-Roger_Federer-An...</td>\n",
       "      <td>Roger Federer</td>\n",
       "      <td>Andre Agassi</td>\n",
       "      <td>R</td>\n",
       "      <td>R</td>\n",
       "      <td>20050126</td>\n",
       "      <td>Australian Open</td>\n",
       "      <td>QF</td>\n",
       "      <td>5pm</td>\n",
       "      <td>Rod Laver Arena</td>\n",
       "      <td>Hard</td>\n",
       "      <td>Pascal Maria</td>\n",
       "      <td>5</td>\n",
       "      <td>0</td>\n",
       "      <td>Edo</td>\n",
       "      <td>True</td>\n",
       "    </tr>\n",
       "    <tr>\n",
       "      <th>192</th>\n",
       "      <td>20050117-M-Australian_Open-R128-Roger_Federer-...</td>\n",
       "      <td>Roger Federer</td>\n",
       "      <td>Fabrice Santoro</td>\n",
       "      <td>R</td>\n",
       "      <td>R</td>\n",
       "      <td>20050117</td>\n",
       "      <td>Australian Open</td>\n",
       "      <td>R128</td>\n",
       "      <td>NaN</td>\n",
       "      <td>Laver</td>\n",
       "      <td>Hard</td>\n",
       "      <td>NaN</td>\n",
       "      <td>5</td>\n",
       "      <td>0</td>\n",
       "      <td>BG</td>\n",
       "      <td>True</td>\n",
       "    </tr>\n",
       "    <tr>\n",
       "      <th>193</th>\n",
       "      <td>20050108-M-Doha-F-Roger_Federer-Ivan_Ljubicic</td>\n",
       "      <td>Roger Federer</td>\n",
       "      <td>Ivan Ljubicic</td>\n",
       "      <td>R</td>\n",
       "      <td>R</td>\n",
       "      <td>20050108</td>\n",
       "      <td>Doha</td>\n",
       "      <td>F</td>\n",
       "      <td>18:30</td>\n",
       "      <td>Center</td>\n",
       "      <td>Hard</td>\n",
       "      <td>Romano Grillotti</td>\n",
       "      <td>3</td>\n",
       "      <td>1</td>\n",
       "      <td>Edo</td>\n",
       "      <td>True</td>\n",
       "    </tr>\n",
       "  </tbody>\n",
       "</table>\n",
       "<p>194 rows × 16 columns</p>\n",
       "</div>"
      ],
      "text/plain": [
       "                                              match_id        Player 1  \\\n",
       "0    20101128-M-Tour_Finals-F-Roger_Federer-Rafael_...   Roger Federer   \n",
       "1    20101126-M-Tour_Finals-SF-Roger_Federer-Novak_...   Roger Federer   \n",
       "2    20101121-M-Tour_Finals-RR-Andy_Murray-Roger_Fe...     Andy Murray   \n",
       "3    20101111-M-Paris_Masters-SF-Roger_Federer-Gael...   Roger Federer   \n",
       "4      20101107-M-Basel-F-Novak_Djokovic-Roger_Federer  Novak Djokovic   \n",
       "..                                                 ...             ...   \n",
       "189  20050220-M-Rotterdam-F-Roger_Federer-Ivan_Ljub...   Roger Federer   \n",
       "190  20050127-M-Australian_Open-SF-Roger_Federer-Ma...   Roger Federer   \n",
       "191  20050126-M-Australian_Open-QF-Roger_Federer-An...   Roger Federer   \n",
       "192  20050117-M-Australian_Open-R128-Roger_Federer-...   Roger Federer   \n",
       "193      20050108-M-Doha-F-Roger_Federer-Ivan_Ljubicic   Roger Federer   \n",
       "\n",
       "            Player 2 Pl 1 hand Pl 2 hand      Date       Tournament Round  \\\n",
       "0       Rafael Nadal         R         L  20101128      Tour Finals     F   \n",
       "1     Novak Djokovic         R         R  20101126      Tour Finals    SF   \n",
       "2      Roger Federer         R         R  20101121      Tour Finals    RR   \n",
       "3       Gael Monfils         R         R  20101111    Paris Masters    SF   \n",
       "4      Roger Federer         R         R  20101107            Basel     F   \n",
       "..               ...       ...       ...       ...              ...   ...   \n",
       "189    Ivan Ljubicic         R         R  20050220        Rotterdam     F   \n",
       "190      Marat Safin         R         R  20050127  Australian Open    SF   \n",
       "191     Andre Agassi         R         R  20050126  Australian Open    QF   \n",
       "192  Fabrice Santoro         R         R  20050117  Australian Open  R128   \n",
       "193    Ivan Ljubicic         R         R  20050108             Doha     F   \n",
       "\n",
       "      Time            Court Surface            Umpire  Best of  Final TB?  \\\n",
       "0    18:45           Centre    Hard   Mohamed Lahyani        3          1   \n",
       "1      NaN              NaN    Hard               NaN        3          1   \n",
       "2      NaN     Centre Court    Hard               NaN        3          1   \n",
       "3      5pm           Centre    Hard     Fergus Murphy        3          1   \n",
       "4    16:10           Centre    Hard   Mohamed Lahyani        3          1   \n",
       "..     ...              ...     ...               ...      ...        ...   \n",
       "189  15:05           Centre    Hard   Mohamed Lahyani        3          1   \n",
       "190  20:00           Centre    Hard      Enric Molina        5          0   \n",
       "191    5pm  Rod Laver Arena    Hard      Pascal Maria        5          0   \n",
       "192    NaN            Laver    Hard               NaN        5          0   \n",
       "193  18:30           Center    Hard  Romano Grillotti        3          1   \n",
       "\n",
       "    Charted by  Winner  \n",
       "0          Edo    True  \n",
       "1        Isaac    True  \n",
       "2        Isaac    True  \n",
       "3          Edo   False  \n",
       "4          Edo    True  \n",
       "..         ...     ...  \n",
       "189        Edo    True  \n",
       "190    1HandBH   False  \n",
       "191        Edo    True  \n",
       "192         BG    True  \n",
       "193        Edo    True  \n",
       "\n",
       "[194 rows x 16 columns]"
      ]
     },
     "execution_count": 4,
     "metadata": {},
     "output_type": "execute_result"
    }
   ],
   "source": [
    "FedererGames"
   ]
  },
  {
   "cell_type": "code",
   "execution_count": 5,
   "metadata": {},
   "outputs": [],
   "source": [
    "a = ['S','R']\n",
    "FedererPoints = pd.read_csv('Federer_data/PointsFedererStart.csv')\n",
    "FedererPoints = FedererPoints[~FedererPoints['1st'].isin(a)]"
   ]
  },
  {
   "cell_type": "markdown",
   "metadata": {},
   "source": [
    "# Wins and Losses"
   ]
  },
  {
   "cell_type": "code",
   "execution_count": 6,
   "metadata": {},
   "outputs": [],
   "source": [
    "FedererWins = FedererGames[FedererGames['Winner'] == True]\n",
    "FedererLosses = FedererGames[FedererGames['Winner'] == False]"
   ]
  },
  {
   "cell_type": "code",
   "execution_count": 7,
   "metadata": {},
   "outputs": [],
   "source": [
    "FedererPointsInWins = FedererPoints[FedererPoints['match_id'].isin(FedererWins['match_id'])]\n",
    "FedererPointsInLosses = FedererPoints[FedererPoints['match_id'].isin(FedererLosses['match_id'])]"
   ]
  },
  {
   "cell_type": "code",
   "execution_count": 8,
   "metadata": {},
   "outputs": [],
   "source": [
    "FedererPointsWonInWins = FedererPointsInWins[FedererPointsInWins['Victor'] == True]\n",
    "FedererPointsLostInWins = FedererPointsInWins[FedererPointsInWins['Victor'] == False]"
   ]
  },
  {
   "cell_type": "code",
   "execution_count": 9,
   "metadata": {},
   "outputs": [],
   "source": [
    "def Stats(data):\n",
    "\n",
    "    WinRate = data['Winner'].value_counts(normalize=True)\n",
    "    AceRate = data['Ace'].value_counts(normalize=True)\n",
    "    DoubleFRate = data['Double Fault'].value_counts(normalize=True)\n",
    "    FERate = data['Forced Error'].value_counts(normalize=True)\n",
    "    UFERate = data['Unforced Error'].value_counts(normalize=True)\n",
    "\n",
    "    return [float(WinRate[True]),float(AceRate[True]),float(DoubleFRate[True]),float(FERate[True]),float(UFERate[True])]"
   ]
  },
  {
   "cell_type": "code",
   "execution_count": 10,
   "metadata": {},
   "outputs": [],
   "source": [
    "PointTypees = ['Winner','Ace','Double Fault','Forced Error','Unforced Error']"
   ]
  },
  {
   "cell_type": "code",
   "execution_count": 11,
   "metadata": {},
   "outputs": [],
   "source": [
    "data = [Stats(FedererPointsWonInWins), Stats(FedererPointsLostInWins)]"
   ]
  },
  {
   "cell_type": "code",
   "execution_count": 12,
   "metadata": {},
   "outputs": [],
   "source": [
    "def PlotGraph(data,surface, columns, won):\n",
    "\n",
    "    Won = data[0]\n",
    "    Lost = data[1]\n",
    "    barWidth = 0.25\n",
    "    \n",
    "    plt.subplots(figsize =(8, 4))\n",
    "    br1 = np.arange(len(Won)) \n",
    "    br2 = [x + barWidth for x in br1] \n",
    "    plt.bar(br1, Won, color= 'blue', alpha = 0.7,\n",
    "            width = barWidth)\n",
    "    plt.bar(br2, Lost, color= 'red', alpha = 0.7,\n",
    "            width = barWidth)\n",
    "    \n",
    "    plt.xticks([r + barWidth for r in range(len(columns))], \n",
    "            columns)\n",
    "\n",
    "    \n",
    "    plt.ylabel(\"Percentages\")\n",
    "    plt.title(f\"Result of Points for Federer in Games {won}\")\n",
    "    plt.legend(['Won','Lost'])\n",
    "\n",
    "    plt.show()"
   ]
  },
  {
   "cell_type": "code",
   "execution_count": 13,
   "metadata": {},
   "outputs": [
    {
     "data": {
      "image/png": "[encoded data removed]",
      "text/plain": [
       "<Figure size 800x400 with 1 Axes>"
      ]
     },
     "metadata": {},
     "output_type": "display_data"
    }
   ],
   "source": [
    "PlotGraph(data,'cl',PointTypees,'Won')"
   ]
  },
  {
   "cell_type": "markdown",
   "metadata": {},
   "source": [
    "# Saques e Recepções"
   ]
  },
  {
   "cell_type": "code",
   "execution_count": 14,
   "metadata": {},
   "outputs": [],
   "source": [
    "FedererServesPoints = FedererPoints[FedererPoints['Server'] == True]\n",
    "FedererReceptionPoints = FedererPoints[FedererPoints['Server'] == False]\n",
    "\n",
    "FedererServesW = FedererServesPoints[FedererServesPoints['Victor'] == True]\n",
    "FedererServesL = FedererServesPoints[FedererServesPoints['Victor'] == False]\n",
    "\n",
    "FedererReceptionW= FedererReceptionPoints[FedererReceptionPoints['Victor'] == True]\n",
    "FedererReceptionL= FedererReceptionPoints[FedererReceptionPoints['Victor'] == False]"
   ]
  },
  {
   "cell_type": "markdown",
   "metadata": {},
   "source": [
    "# Games e Sets Stats"
   ]
  },
  {
   "cell_type": "code",
   "execution_count": 15,
   "metadata": {},
   "outputs": [],
   "source": [
    "FedererServePointsGameW = FedererServesPoints[FedererServesPoints['GameWinner'] == True]\n",
    "FedererServePointsGameL = FedererServesPoints[FedererServesPoints['GameWinner'] == False]\n",
    "\n",
    "FedererServePointsSetW = FedererServesPoints[FedererServesPoints['SetWinner'] == True]\n",
    "FedererServePointsSetL = FedererServesPoints[FedererServesPoints['SetWinner'] == False]\n",
    "\n",
    "FedererReceptionPointsGameW = FedererReceptionPoints[FedererReceptionPoints['GameWinner'] == True]\n",
    "FedererReceptionPointsGameL = FedererReceptionPoints[FedererReceptionPoints['GameWinner'] == False]\n",
    "\n",
    "FedererReceptionPointsSetW = FedererReceptionPoints[FedererReceptionPoints['SetWinner'] == True]\n",
    "FedererReceptionPointsSetL = FedererReceptionPoints[FedererReceptionPoints['SetWinner'] == False]"
   ]
  },
  {
   "cell_type": "code",
   "execution_count": 16,
   "metadata": {},
   "outputs": [],
   "source": [
    "SetDict = DivisionSets(FedererPoints,FedererPoints['match_id'].unique())"
   ]
  },
  {
   "cell_type": "code",
   "execution_count": 17,
   "metadata": {},
   "outputs": [],
   "source": [
    "def MeanPoints(division):\n",
    "    Mean = 0\n",
    "    Divisions = []\n",
    "    num_divisions = 0\n",
    "    for k in division.keys():\n",
    "        divisions = 0\n",
    "        Match = division[k]\n",
    "        divisions = len(Match)\n",
    "        num_divisions += divisions\n",
    "\n",
    "        for d in Match:\n",
    "            Mean += len(d)\n",
    "        \n",
    "        Divisions.append(divisions)\n",
    "    \n",
    "    return (Mean/num_divisions, Divisions)"
   ]
  },
  {
   "cell_type": "markdown",
   "metadata": {},
   "source": [
    "# Visualizações"
   ]
  },
  {
   "cell_type": "code",
   "execution_count": 18,
   "metadata": {},
   "outputs": [],
   "source": [
    "court = GetCourt('Grass')"
   ]
  },
  {
   "cell_type": "code",
   "execution_count": 19,
   "metadata": {},
   "outputs": [
    {
     "data": {
      "image/png": "[encoded data removed]",
      "text/plain": [
       "<Figure size 1600x600 with 6 Axes>"
      ]
     },
     "metadata": {},
     "output_type": "display_data"
    }
   ],
   "source": [
    "fig, ax = plt.subplots(figsize=(16,6),nrows=(2),ncols=(3))\n",
    "\n",
    "ax[0][0].set_title('Forehand 1')\n",
    "ax[0][1].set_title('Forehand 2')\n",
    "ax[0][2].set_title('Forehand 3')\n",
    "court.draw(ax=ax[0][0],display_range='full')\n",
    "court.draw(ax=ax[0][1],display_range='full')\n",
    "court.draw(ax=ax[0][2],display_range='full')\n",
    "court.arrow(ax=ax[0][0],x1= -39.0, y1= -13.0, x2=39.0, y2=13.0,color= 'blue')\n",
    "court.arrow(ax=ax[0][1],x1= -39.0, y1= -13.0, x2=39.0, y2=0,color= 'blue')\n",
    "court.arrow(ax=ax[0][2],x1= -39.0, y1= -12.0, x2=39.0, y2=-12.0,color= 'blue')\n",
    "\n",
    "ax[1][0].set_title('Backhand 1')\n",
    "ax[1][1].set_title('Backhand 2')\n",
    "ax[1][2].set_title('Backhand 3')\n",
    "court.draw(ax=ax[1][0],display_range='full')\n",
    "court.draw(ax=ax[1][1],display_range='full')\n",
    "court.draw(ax=ax[1][2],display_range='full')\n",
    "court.arrow(ax=ax[1][0],x1= -39.0, y1= 13.0, x2=39.0, y2=-13.0,color= 'blue')\n",
    "court.arrow(ax=ax[1][1],x1= -39.0, y1= 13.0, x2=39.0, y2=0,color= 'blue')\n",
    "court.arrow(ax=ax[1][2],x1= -39.0, y1= 12.0, x2=39.0, y2=12.0,color= 'blue')\n",
    "\n",
    "axes = ax.ravel()\n",
    "\n",
    "fig.tight_layout()\n",
    "fig.text(s='Dois Jogadores Destros',y=0.0,x=0.0)\n",
    "plt.show()"
   ]
  },
  {
   "cell_type": "code",
   "execution_count": 61,
   "metadata": {},
   "outputs": [],
   "source": [
    "Sequences, Endings = Sequencer(FedererServePointsGameW)\n",
    "Patterns = CallPrefixSpan(Sequences, 100, k=3)\n",
    "SortedPatterns = SortPatterns(Patterns)"
   ]
  },
  {
   "cell_type": "code",
   "execution_count": 29,
   "metadata": {},
   "outputs": [],
   "source": [
    "result = [check_list_contained(SortedPatterns[0][1],s) for s in Sequences]"
   ]
  },
  {
   "cell_type": "code",
   "execution_count": 90,
   "metadata": {},
   "outputs": [],
   "source": [
    "count = 0\n",
    "res = []\n",
    "for r in result:\n",
    "\n",
    "    if(r == True):\n",
    "        res.append((Sequences[count],Endings[count]))\n",
    "    \n",
    "    count+=1"
   ]
  },
  {
   "cell_type": "code",
   "execution_count": 91,
   "metadata": {},
   "outputs": [],
   "source": [
    "forced = []\n",
    "for seq, ending in res:\n",
    "    if(ending[-1]) == 'Winner':\n",
    "        forced.append(seq)\n"
   ]
  },
  {
   "cell_type": "code",
   "execution_count": 58,
   "metadata": {},
   "outputs": [],
   "source": [
    "Winners = FedererPointsInWins[FedererPointsInWins['Winner'] == True]\n",
    "Sequences, Endings = Sequencer(Winners)"
   ]
  },
  {
   "cell_type": "code",
   "execution_count": 59,
   "metadata": {},
   "outputs": [],
   "source": [
    "Winner_Patterns = CallPrefixSpan(Sequences, 100, k=3)\n",
    "SortedPatterns = SortPatterns(Winner_Patterns)"
   ]
  },
  {
   "cell_type": "code",
   "execution_count": 60,
   "metadata": {},
   "outputs": [
    {
     "data": {
      "text/plain": [
       "(509, ['Wide Serve', 'Forehand Cruzado', 'Forehand Paralelo'])"
      ]
     },
     "execution_count": 60,
     "metadata": {},
     "output_type": "execute_result"
    }
   ],
   "source": [
    "SortedPatterns[0]"
   ]
  }
 ],
 "metadata": {
  "kernelspec": {
   "display_name": "Python 3",
   "language": "python",
   "name": "python3"
  },
  "language_info": {
   "codemirror_mode": {
    "name": "ipython",
    "version": 3
   },
   "file_extension": ".py",
   "mimetype": "text/x-python",
   "name": "python",
   "nbconvert_exporter": "python",
   "pygments_lexer": "ipython3",
   "version": "3.12.4"
  }
 },
 "nbformat": 4,
 "nbformat_minor": 2
}
