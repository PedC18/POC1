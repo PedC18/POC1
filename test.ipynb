{
 "cells": [
  {
   "cell_type": "code",
   "execution_count": 1,
   "metadata": {},
   "outputs": [],
   "source": [
    "import pandas as pd\n",
    "import matplotlib.pyplot as plt\n",
    "from utils.Points import PlayerPoints, PlayerServes\n",
    "from utils.Tools import ResumePointsStats,ResumeServeStats, ReturnTerrain\n",
    "import numpy as np\n",
    "import csv"
   ]
  },
  {
   "cell_type": "code",
   "execution_count": 2,
   "metadata": {},
   "outputs": [],
   "source": [
    "pd.options.display.max_columns = None"
   ]
  },
  {
   "cell_type": "markdown",
   "metadata": {},
   "source": [
    "# Tratamento"
   ]
  },
  {
   "cell_type": "code",
   "execution_count": 3,
   "metadata": {},
   "outputs": [],
   "source": [
    "matches = pd.read_csv('charting-m-matches.csv', encoding='unicode_escape',quoting=csv.QUOTE_NONE)"
   ]
  },
  {
   "cell_type": "code",
   "execution_count": 4,
   "metadata": {},
   "outputs": [],
   "source": [
    "H = ['Hard', 'Hard Indoor',\n",
    "       'Hard ', 'Indoor Hard', 'Hard (indoor)',\n",
    "       'Hard Court', 'Hard (outdoor)']\n",
    "\n",
    "C = ['Clay', 'Clay ','Indoor Clay']"
   ]
  },
  {
   "cell_type": "code",
   "execution_count": 5,
   "metadata": {},
   "outputs": [
    {
     "data": {
      "text/plain": [
       "array(['Hard', 'Clay', 'Grass', 'Indoor'], dtype=object)"
      ]
     },
     "execution_count": 5,
     "metadata": {},
     "output_type": "execute_result"
    }
   ],
   "source": [
    "# Tratando erros/ agrupando as superficies\n",
    "matches = matches.dropna(subset=['Surface'])\n",
    "\n",
    "matches.loc[(matches['Surface'].isin(C)), ['Surface']] = 'Clay'\n",
    "matches.loc[(matches['Surface'].isin(H)), ['Surface']] = 'Hard'\n",
    "matches = matches[matches['Surface'] != 'Carpet']\n",
    "\n",
    "matches['Surface'].unique()"
   ]
  },
  {
   "cell_type": "code",
   "execution_count": 6,
   "metadata": {},
   "outputs": [],
   "source": [
    "# Filtrando os jogos de cada jogador\n",
    "\n",
    "Federer_Matches = matches[(matches['Player 1'] == 'Roger Federer') | (matches['Player 2'] == 'Roger Federer')]\n",
    "Nadal_Matches = matches[(matches['Player 1'] == 'Rafael Nadal') | (matches['Player 2'] == 'Rafael Nadal')]\n",
    "Djokovic_Matches = matches[(matches['Player 1'] == 'Novak Djokovic') | (matches['Player 2'] == 'Novak Djokovic')]"
   ]
  },
  {
   "cell_type": "code",
   "execution_count": 7,
   "metadata": {},
   "outputs": [],
   "source": [
    "# Pegando todos os Ids dos jogos de cada jogador\n",
    "\n",
    "Nadal_Id = Nadal_Matches['match_id'].unique()\n",
    "Djokovic_Id = Djokovic_Matches['match_id'].unique()\n",
    "Federer_Id = Federer_Matches['match_id'].unique()"
   ]
  },
  {
   "cell_type": "code",
   "execution_count": 8,
   "metadata": {},
   "outputs": [],
   "source": [
    "FedererAux = Federer_Matches[['match_id','Player 1', 'Player 2','Surface']]\n",
    "NadalAux = Nadal_Matches[['match_id','Player 1', 'Player 2','Surface']]\n",
    "DjokovicAux = Djokovic_Matches[['match_id','Player 1', 'Player 2','Surface']]"
   ]
  },
  {
   "cell_type": "code",
   "execution_count": 9,
   "metadata": {},
   "outputs": [],
   "source": [
    "#Carregando datasets de pontos\n",
    "\n",
    "points2010 = pd.read_csv('charting-m-points-2010s.csv', encoding='unicode_escape',quoting=csv.QUOTE_NONE, low_memory=False)\n",
    "points2020 = pd.read_csv('charting-m-points-2020s.csv', encoding='unicode_escape',quoting=csv.QUOTE_NONE,  low_memory=False)\n",
    "points_to_2009 = pd.read_csv('charting-m-points-to-2009.csv', encoding='unicode_escape',quoting=csv.QUOTE_NONE,  low_memory=False)"
   ]
  },
  {
   "cell_type": "code",
   "execution_count": 10,
   "metadata": {},
   "outputs": [],
   "source": [
    "#Juntando todos os pontos em um só dataset\n",
    "\n",
    "Points = pd.concat([points_to_2009,points2010,points2020],axis=0).reset_index(drop=True)\n",
    "\n",
    "# Consertando erros de input\n",
    "\n",
    "Points['rallyCount'] = pd.to_numeric(Points['rallyCount'], errors='coerce')\n",
    "Points = Points.dropna(subset=['rallyCount'])\n",
    "Points['rallyCount'] = Points['rallyCount'].astype(int)"
   ]
  },
  {
   "cell_type": "code",
   "execution_count": 11,
   "metadata": {},
   "outputs": [],
   "source": [
    "#Para cada jogador, retorna todos os pontos disputados em cada um de seus jogos\n",
    "\n",
    "Federer_Games_Points = pd.merge(Points,FedererAux, on='match_id')\n",
    "Nadal_Games_Points = pd.merge(Points,NadalAux, on='match_id')\n",
    "Djokovic_Games_Points = pd.merge(Points,DjokovicAux, on='match_id')"
   ]
  },
  {
   "cell_type": "code",
   "execution_count": 12,
   "metadata": {},
   "outputs": [],
   "source": [
    "# Divide os pontos  em vencidos/perdidos por cada jogador\n",
    "\n",
    "Federer_Points_Won, Federer_Points_Lost = PlayerPoints('Roger Federer', Federer_Games_Points, Federer_Id)\n",
    "Nadal_Points_Won, Nadal_Points_Lost = PlayerPoints('Rafael Nadal', Nadal_Games_Points, Nadal_Id)\n",
    "Djokovic_Points_Won, Djokovic_Points_Lost = PlayerPoints('Novak Djokovic', Djokovic_Games_Points, Djokovic_Id)"
   ]
  },
  {
   "cell_type": "code",
   "execution_count": 13,
   "metadata": {},
   "outputs": [],
   "source": [
    "# Divide os pontos em saque/receives para cada jogador\n",
    "\n",
    "Federer_Serves, Federer_Receives = PlayerServes('Roger Federer', Federer_Games_Points, Federer_Id)\n",
    "Nadal_Serves, Nadal_Receives = PlayerServes('Rafael Nadal', Nadal_Games_Points, Nadal_Id)\n",
    "Djokovic_Serves, Djokovic_Receives = PlayerServes('Novak Djokovic', Djokovic_Games_Points, Djokovic_Id)"
   ]
  },
  {
   "cell_type": "code",
   "execution_count": 14,
   "metadata": {},
   "outputs": [],
   "source": [
    "# Retorna os pontos vencidos nos quais o jogadore estavam no saque\n",
    "\n",
    "Federer_Serve_Points = Federer_Serves[Federer_Serves['Svr'] == Federer_Serves['PtWinner']]\n",
    "Nadal_Serve_Points = Nadal_Serves[Nadal_Serves['Svr'] == Nadal_Serves['PtWinner']]\n",
    "Djokovic_Serve_Points = Djokovic_Serves[Djokovic_Serves['Svr'] == Djokovic_Serves['PtWinner']]"
   ]
  },
  {
   "cell_type": "code",
   "execution_count": 15,
   "metadata": {},
   "outputs": [],
   "source": [
    "# Retorna os pontos vencidos nos quais o jogador estava recebendo\n",
    "Federer_Receive_Points = Federer_Receives[Federer_Receives['Ret'] == Federer_Receives['PtWinner']]\n",
    "Nadal_Receive_Points = Nadal_Receives[Nadal_Receives['Ret'] == Nadal_Receives['PtWinner']]\n",
    "Djokovic_Receive_Points = Djokovic_Receives[Djokovic_Receives['Ret'] == Djokovic_Receives['PtWinner']]"
   ]
  },
  {
   "cell_type": "code",
   "execution_count": 16,
   "metadata": {},
   "outputs": [
    {
     "data": {
      "text/plain": [
       "isUnret\n",
       "False    47722\n",
       "True       435\n",
       "Name: count, dtype: int64"
      ]
     },
     "execution_count": 16,
     "metadata": {},
     "output_type": "execute_result"
    }
   ],
   "source": [
    "Federer_Serves['isAce'].value_counts()\n",
    "Federer_Serves['isDouble'].value_counts()\n",
    "Federer_Serves['isUnret'].value_counts()"
   ]
  },
  {
   "cell_type": "code",
   "execution_count": 17,
   "metadata": {},
   "outputs": [],
   "source": [
    "Hard, Clay, Grass = ReturnTerrain(Federer_Games_Points)"
   ]
  },
  {
   "cell_type": "markdown",
   "metadata": {},
   "source": [
    "# Visualização"
   ]
  },
  {
   "cell_type": "code",
   "execution_count": 18,
   "metadata": {},
   "outputs": [
    {
     "data": {
      "image/png": "[encoded data removed]",
      "text/plain": [
       "<Figure size 640x480 with 1 Axes>"
      ]
     },
     "metadata": {},
     "output_type": "display_data"
    }
   ],
   "source": [
    "\n",
    "boxPoints = [Federer_Points_Won['rallyCount'],Nadal_Points_Won['rallyCount'], Djokovic_Points_Won['rallyCount']]\n",
    "\n",
    "fig, ax = plt.subplots()\n",
    "ax.boxplot(boxPoints)\n",
    "ax.set_xticklabels(['Roger Federer', 'Rafael Nadal', 'Novak Djokovic'])\n",
    "\n",
    "\n",
    "plt.show()"
   ]
  },
  {
   "cell_type": "code",
   "execution_count": 19,
   "metadata": {},
   "outputs": [
    {
     "data": {
      "text/plain": [
       "Index(['match_id', 'Pt', 'Set1', 'Set2', 'Gm1', 'Gm2', 'Pts', 'Gm#', 'TbSet',\n",
       "       'TB?', 'TBpt', 'Svr', 'Ret', 'Serving', '1st', '2nd', 'Notes', '1stSV',\n",
       "       '2ndSV', '1stIn', '2ndIn', 'isAce', 'isUnret', 'isRallyWinner',\n",
       "       'isForced', 'isUnforced', 'isDouble', 'PtWinner', 'isSvrWinner',\n",
       "       'rallyCount', 'Player 1', 'Player 2', 'Surface'],\n",
       "      dtype='object')"
      ]
     },
     "execution_count": 19,
     "metadata": {},
     "output_type": "execute_result"
    }
   ],
   "source": [
    "Federer_Games_Points.columns"
   ]
  },
  {
   "cell_type": "code",
   "execution_count": 20,
   "metadata": {},
   "outputs": [],
   "source": [
    "PtDecision = ['isAce', 'isUnret', 'isRallyWinner',\n",
    "       'isForced', 'isUnforced', 'isDouble']\n",
    "\n",
    "SvrStats = ['1stIn', '2ndIn','isDouble']"
   ]
  },
  {
   "cell_type": "code",
   "execution_count": 21,
   "metadata": {},
   "outputs": [],
   "source": [
    "FedererStats = ResumePointsStats(Federer_Points_Won,PtDecision)\n",
    "DjokovicStats = ResumePointsStats(Djokovic_Points_Won,PtDecision)\n",
    "NadalStats = ResumePointsStats(Nadal_Points_Won,PtDecision)"
   ]
  },
  {
   "cell_type": "code",
   "execution_count": 24,
   "metadata": {},
   "outputs": [
    {
     "data": {
      "image/png": "[encoded data removed]",
      "text/plain": [
       "<Figure size 1300x900 with 1 Axes>"
      ]
     },
     "metadata": {},
     "output_type": "display_data"
    }
   ],
   "source": [
    "PtCodes = ['Ace', 'Unreturned', 'Winners','Forced Error', 'Unforced Error', 'Double Fault']\n",
    "\n",
    "barWidth = 0.25\n",
    "br1 = np.arange(len(FedererStats)) \n",
    "br2 = [x + barWidth for x in br1] \n",
    "br3 = [x + barWidth for x in br2]\n",
    "\n",
    "plt.subplots(figsize =(13, 9))\n",
    "plt.bar(br1, FedererStats, color= 'blue', alpha = 0.7,\n",
    "        width = barWidth)\n",
    "plt.bar(br2, DjokovicStats, color= 'green', alpha = 0.7,\n",
    "        width = barWidth)\n",
    "plt.bar(br3, NadalStats, color= 'red', alpha = 0.7,\n",
    "        width = barWidth)\n",
    "\n",
    "plt.xticks([r + barWidth for r in range(len(FedererStats))], \n",
    "        PtCodes)\n",
    "\n",
    "plt.ylabel(\"Percentages\")\n",
    "plt.title(\"Result of Points Won by the Big 3\")\n",
    "plt.legend(['Federer','Djokovic','Nadal'])\n",
    "plt.show()\n"
   ]
  }
 ],
 "metadata": {
  "kernelspec": {
   "display_name": "Python 3",
   "language": "python",
   "name": "python3"
  },
  "language_info": {
   "codemirror_mode": {
    "name": "ipython",
    "version": 3
   },
   "file_extension": ".py",
   "mimetype": "text/x-python",
   "name": "python",
   "nbconvert_exporter": "python",
   "pygments_lexer": "ipython3",
   "version": "3.12.4"
  }
 },
 "nbformat": 4,
 "nbformat_minor": 2
}
