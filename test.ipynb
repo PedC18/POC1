{
 "cells": [
  {
   "cell_type": "code",
   "execution_count": 1,
   "metadata": {},
   "outputs": [],
   "source": [
    "import pandas as pd\n",
    "from utils.Points import PlayerPoints\n",
    "from utils.Tools import ResumeStats\n",
    "import csv"
   ]
  },
  {
   "cell_type": "markdown",
   "metadata": {},
   "source": [
    "# Tratamento"
   ]
  },
  {
   "cell_type": "code",
   "execution_count": 2,
   "metadata": {},
   "outputs": [],
   "source": [
    "matches = pd.read_csv('charting-m-matches.csv', encoding='unicode_escape',quoting=csv.QUOTE_NONE)"
   ]
  },
  {
   "cell_type": "code",
   "execution_count": 3,
   "metadata": {},
   "outputs": [
    {
     "data": {
      "text/plain": [
       "array(['Hard', 'Clay', 'Grass', 'Carpet', 'Clay ', nan, 'Hard Indoor',\n",
       "       'Hard ', 'Indoor', 'Indoor Hard', 'Indoor Clay', 'Hard (indoor)',\n",
       "       'Hard Court', 'Hard (outdoor)'], dtype=object)"
      ]
     },
     "execution_count": 3,
     "metadata": {},
     "output_type": "execute_result"
    }
   ],
   "source": [
    "matches['Surface'].unique()"
   ]
  },
  {
   "cell_type": "code",
   "execution_count": 4,
   "metadata": {},
   "outputs": [
    {
     "name": "stderr",
     "output_type": "stream",
     "text": [
      "C:\\Users\\cimin\\AppData\\Local\\Temp\\ipykernel_10052\\1900643153.py:3: FutureWarning: Setting an item of incompatible dtype is deprecated and will raise an error in a future version of pandas. Value 'Clay' has dtype incompatible with int64, please explicitly cast to a compatible dtype first.\n",
      "  matches.iloc[matches['Surface'] == 'Clay '] = 'Clay'\n",
      "C:\\Users\\cimin\\AppData\\Local\\Temp\\ipykernel_10052\\1900643153.py:3: FutureWarning: Setting an item of incompatible dtype is deprecated and will raise an error in a future version of pandas. Value 'Clay' has dtype incompatible with int64, please explicitly cast to a compatible dtype first.\n",
      "  matches.iloc[matches['Surface'] == 'Clay '] = 'Clay'\n"
     ]
    }
   ],
   "source": [
    "# Tratando erros/ agrupando as superficies\n",
    "\n",
    "matches.iloc[matches['Surface'] == 'Clay '] = 'Clay'\n",
    "matches.iloc[(matches['Surface'] == 'Hard ') | (matches['Surface'] == 'Hard Court') | (matches['Surface'] == 'Hard Court')] = 'Hard'"
   ]
  },
  {
   "cell_type": "code",
   "execution_count": 5,
   "metadata": {},
   "outputs": [],
   "source": [
    "# Filtrando os jogos de cada jogador\n",
    "\n",
    "Federer_Matches = matches[(matches['Player 1'] == 'Roger Federer') | (matches['Player 2'] == 'Roger Federer')]\n",
    "Nadal_Matches = matches[(matches['Player 1'] == 'Rafael Nadal') | (matches['Player 2'] == 'Rafael Nadal')]\n",
    "Djokovic_Matches = matches[(matches['Player 1'] == 'Novak Djokovic') | (matches['Player 2'] == 'Novak Djokovic')]"
   ]
  },
  {
   "cell_type": "code",
   "execution_count": 6,
   "metadata": {},
   "outputs": [],
   "source": [
    "# Pegando todos os Ids dos jogos de cada jogador\n",
    "\n",
    "Nadal_Id = Nadal_Matches['match_id'].unique()\n",
    "Djokovic_Id = Djokovic_Matches['match_id'].unique()\n",
    "Federer_Id = Federer_Matches['match_id'].unique()"
   ]
  },
  {
   "cell_type": "code",
   "execution_count": 7,
   "metadata": {},
   "outputs": [
    {
     "name": "stderr",
     "output_type": "stream",
     "text": [
      "C:\\Users\\cimin\\AppData\\Local\\Temp\\ipykernel_10052\\1472645856.py:3: DtypeWarning: Columns (8,9,29) have mixed types. Specify dtype option on import or set low_memory=False.\n",
      "  points2010 = pd.read_csv('charting-m-points-2010s.csv', encoding='unicode_escape',quoting=csv.QUOTE_NONE)\n",
      "C:\\Users\\cimin\\AppData\\Local\\Temp\\ipykernel_10052\\1472645856.py:4: DtypeWarning: Columns (8,9,29) have mixed types. Specify dtype option on import or set low_memory=False.\n",
      "  points2020 = pd.read_csv('charting-m-points-2020s.csv', encoding='unicode_escape',quoting=csv.QUOTE_NONE)\n",
      "C:\\Users\\cimin\\AppData\\Local\\Temp\\ipykernel_10052\\1472645856.py:5: DtypeWarning: Columns (9) have mixed types. Specify dtype option on import or set low_memory=False.\n",
      "  points_to_2009 = pd.read_csv('charting-m-points-to-2009.csv', encoding='unicode_escape',quoting=csv.QUOTE_NONE)\n"
     ]
    }
   ],
   "source": [
    "#Carregando datasets de pontos\n",
    "\n",
    "points2010 = pd.read_csv('charting-m-points-2010s.csv', encoding='unicode_escape',quoting=csv.QUOTE_NONE)\n",
    "points2020 = pd.read_csv('charting-m-points-2020s.csv', encoding='unicode_escape',quoting=csv.QUOTE_NONE)\n",
    "points_to_2009 = pd.read_csv('charting-m-points-to-2009.csv', encoding='unicode_escape',quoting=csv.QUOTE_NONE)"
   ]
  },
  {
   "cell_type": "code",
   "execution_count": 8,
   "metadata": {},
   "outputs": [],
   "source": [
    "#Juntando todos os pontos em um só dataset\n",
    "\n",
    "Points = pd.concat([points_to_2009,points2010,points2020],axis=0).reset_index(drop=True)"
   ]
  },
  {
   "cell_type": "code",
   "execution_count": 9,
   "metadata": {},
   "outputs": [
    {
     "data": {
      "text/html": [
       "<div>\n",
       "<style scoped>\n",
       "    .dataframe tbody tr th:only-of-type {\n",
       "        vertical-align: middle;\n",
       "    }\n",
       "\n",
       "    .dataframe tbody tr th {\n",
       "        vertical-align: top;\n",
       "    }\n",
       "\n",
       "    .dataframe thead th {\n",
       "        text-align: right;\n",
       "    }\n",
       "</style>\n",
       "<table border=\"1\" class=\"dataframe\">\n",
       "  <thead>\n",
       "    <tr style=\"text-align: right;\">\n",
       "      <th></th>\n",
       "      <th>match_id</th>\n",
       "      <th>Pt</th>\n",
       "      <th>Set1</th>\n",
       "      <th>Set2</th>\n",
       "      <th>Gm1</th>\n",
       "      <th>Gm2</th>\n",
       "      <th>Pts</th>\n",
       "      <th>Gm#</th>\n",
       "      <th>TbSet</th>\n",
       "      <th>TB?</th>\n",
       "      <th>...</th>\n",
       "      <th>2ndIn</th>\n",
       "      <th>isAce</th>\n",
       "      <th>isUnret</th>\n",
       "      <th>isRallyWinner</th>\n",
       "      <th>isForced</th>\n",
       "      <th>isUnforced</th>\n",
       "      <th>isDouble</th>\n",
       "      <th>PtWinner</th>\n",
       "      <th>isSvrWinner</th>\n",
       "      <th>rallyCount</th>\n",
       "    </tr>\n",
       "  </thead>\n",
       "  <tbody>\n",
       "    <tr>\n",
       "      <th>0</th>\n",
       "      <td>20091129-M-Tour_Finals-F-Nikolay_Davydenko-Jua...</td>\n",
       "      <td>1</td>\n",
       "      <td>0</td>\n",
       "      <td>0</td>\n",
       "      <td>0.0</td>\n",
       "      <td>0.0</td>\n",
       "      <td>0-0</td>\n",
       "      <td>1</td>\n",
       "      <td>1</td>\n",
       "      <td>0</td>\n",
       "      <td>...</td>\n",
       "      <td>NaN</td>\n",
       "      <td>False</td>\n",
       "      <td>False</td>\n",
       "      <td>False</td>\n",
       "      <td>True</td>\n",
       "      <td>False</td>\n",
       "      <td>False</td>\n",
       "      <td>1</td>\n",
       "      <td>1</td>\n",
       "      <td>1.0</td>\n",
       "    </tr>\n",
       "    <tr>\n",
       "      <th>1</th>\n",
       "      <td>20091129-M-Tour_Finals-F-Nikolay_Davydenko-Jua...</td>\n",
       "      <td>2</td>\n",
       "      <td>0</td>\n",
       "      <td>0</td>\n",
       "      <td>0.0</td>\n",
       "      <td>0.0</td>\n",
       "      <td>15-0</td>\n",
       "      <td>1</td>\n",
       "      <td>1</td>\n",
       "      <td>0</td>\n",
       "      <td>...</td>\n",
       "      <td>1.0</td>\n",
       "      <td>False</td>\n",
       "      <td>False</td>\n",
       "      <td>False</td>\n",
       "      <td>False</td>\n",
       "      <td>True</td>\n",
       "      <td>False</td>\n",
       "      <td>1</td>\n",
       "      <td>1</td>\n",
       "      <td>5.0</td>\n",
       "    </tr>\n",
       "    <tr>\n",
       "      <th>2</th>\n",
       "      <td>20091129-M-Tour_Finals-F-Nikolay_Davydenko-Jua...</td>\n",
       "      <td>3</td>\n",
       "      <td>0</td>\n",
       "      <td>0</td>\n",
       "      <td>0.0</td>\n",
       "      <td>0.0</td>\n",
       "      <td>30-0</td>\n",
       "      <td>1</td>\n",
       "      <td>1</td>\n",
       "      <td>0</td>\n",
       "      <td>...</td>\n",
       "      <td>NaN</td>\n",
       "      <td>False</td>\n",
       "      <td>False</td>\n",
       "      <td>False</td>\n",
       "      <td>False</td>\n",
       "      <td>True</td>\n",
       "      <td>False</td>\n",
       "      <td>1</td>\n",
       "      <td>1</td>\n",
       "      <td>7.0</td>\n",
       "    </tr>\n",
       "    <tr>\n",
       "      <th>3</th>\n",
       "      <td>20091129-M-Tour_Finals-F-Nikolay_Davydenko-Jua...</td>\n",
       "      <td>4</td>\n",
       "      <td>0</td>\n",
       "      <td>0</td>\n",
       "      <td>0.0</td>\n",
       "      <td>0.0</td>\n",
       "      <td>40-0</td>\n",
       "      <td>1</td>\n",
       "      <td>1</td>\n",
       "      <td>0</td>\n",
       "      <td>...</td>\n",
       "      <td>NaN</td>\n",
       "      <td>False</td>\n",
       "      <td>False</td>\n",
       "      <td>False</td>\n",
       "      <td>False</td>\n",
       "      <td>True</td>\n",
       "      <td>False</td>\n",
       "      <td>1</td>\n",
       "      <td>1</td>\n",
       "      <td>3.0</td>\n",
       "    </tr>\n",
       "    <tr>\n",
       "      <th>4</th>\n",
       "      <td>20091129-M-Tour_Finals-F-Nikolay_Davydenko-Jua...</td>\n",
       "      <td>5</td>\n",
       "      <td>0</td>\n",
       "      <td>0</td>\n",
       "      <td>1.0</td>\n",
       "      <td>0.0</td>\n",
       "      <td>0-0</td>\n",
       "      <td>2</td>\n",
       "      <td>1</td>\n",
       "      <td>0</td>\n",
       "      <td>...</td>\n",
       "      <td>NaN</td>\n",
       "      <td>False</td>\n",
       "      <td>False</td>\n",
       "      <td>False</td>\n",
       "      <td>True</td>\n",
       "      <td>False</td>\n",
       "      <td>False</td>\n",
       "      <td>2</td>\n",
       "      <td>1</td>\n",
       "      <td>1.0</td>\n",
       "    </tr>\n",
       "    <tr>\n",
       "      <th>...</th>\n",
       "      <td>...</td>\n",
       "      <td>...</td>\n",
       "      <td>...</td>\n",
       "      <td>...</td>\n",
       "      <td>...</td>\n",
       "      <td>...</td>\n",
       "      <td>...</td>\n",
       "      <td>...</td>\n",
       "      <td>...</td>\n",
       "      <td>...</td>\n",
       "      <td>...</td>\n",
       "      <td>...</td>\n",
       "      <td>...</td>\n",
       "      <td>...</td>\n",
       "      <td>...</td>\n",
       "      <td>...</td>\n",
       "      <td>...</td>\n",
       "      <td>...</td>\n",
       "      <td>...</td>\n",
       "      <td>...</td>\n",
       "      <td>...</td>\n",
       "    </tr>\n",
       "    <tr>\n",
       "      <th>806239</th>\n",
       "      <td>20200103-M-ATP_Cup-RR-Alex_De_Minaur-Alexander...</td>\n",
       "      <td>203</td>\n",
       "      <td>1</td>\n",
       "      <td>1</td>\n",
       "      <td>5.0</td>\n",
       "      <td>2.0</td>\n",
       "      <td>15-0</td>\n",
       "      <td>31 (2)</td>\n",
       "      <td>1.0</td>\n",
       "      <td>0</td>\n",
       "      <td>...</td>\n",
       "      <td>1.0</td>\n",
       "      <td>False</td>\n",
       "      <td>False</td>\n",
       "      <td>False</td>\n",
       "      <td>False</td>\n",
       "      <td>True</td>\n",
       "      <td>False</td>\n",
       "      <td>1</td>\n",
       "      <td>1</td>\n",
       "      <td>11</td>\n",
       "    </tr>\n",
       "    <tr>\n",
       "      <th>806240</th>\n",
       "      <td>20200103-M-ATP_Cup-RR-Alex_De_Minaur-Alexander...</td>\n",
       "      <td>204</td>\n",
       "      <td>1</td>\n",
       "      <td>1</td>\n",
       "      <td>5.0</td>\n",
       "      <td>2.0</td>\n",
       "      <td>30-0</td>\n",
       "      <td>31 (3)</td>\n",
       "      <td>1.0</td>\n",
       "      <td>0</td>\n",
       "      <td>...</td>\n",
       "      <td>1.0</td>\n",
       "      <td>False</td>\n",
       "      <td>False</td>\n",
       "      <td>True</td>\n",
       "      <td>False</td>\n",
       "      <td>False</td>\n",
       "      <td>False</td>\n",
       "      <td>1</td>\n",
       "      <td>1</td>\n",
       "      <td>9</td>\n",
       "    </tr>\n",
       "    <tr>\n",
       "      <th>806241</th>\n",
       "      <td>20200103-M-ATP_Cup-RR-Alex_De_Minaur-Alexander...</td>\n",
       "      <td>205</td>\n",
       "      <td>1</td>\n",
       "      <td>1</td>\n",
       "      <td>5.0</td>\n",
       "      <td>2.0</td>\n",
       "      <td>40-0</td>\n",
       "      <td>31 (4)</td>\n",
       "      <td>1.0</td>\n",
       "      <td>0</td>\n",
       "      <td>...</td>\n",
       "      <td>NaN</td>\n",
       "      <td>False</td>\n",
       "      <td>False</td>\n",
       "      <td>False</td>\n",
       "      <td>False</td>\n",
       "      <td>True</td>\n",
       "      <td>False</td>\n",
       "      <td>2</td>\n",
       "      <td>0</td>\n",
       "      <td>10</td>\n",
       "    </tr>\n",
       "    <tr>\n",
       "      <th>806242</th>\n",
       "      <td>20200103-M-ATP_Cup-RR-Alex_De_Minaur-Alexander...</td>\n",
       "      <td>206</td>\n",
       "      <td>1</td>\n",
       "      <td>1</td>\n",
       "      <td>5.0</td>\n",
       "      <td>2.0</td>\n",
       "      <td>40-15</td>\n",
       "      <td>31 (5)</td>\n",
       "      <td>1.0</td>\n",
       "      <td>0</td>\n",
       "      <td>...</td>\n",
       "      <td>NaN</td>\n",
       "      <td>False</td>\n",
       "      <td>False</td>\n",
       "      <td>False</td>\n",
       "      <td>False</td>\n",
       "      <td>True</td>\n",
       "      <td>False</td>\n",
       "      <td>2</td>\n",
       "      <td>0</td>\n",
       "      <td>6</td>\n",
       "    </tr>\n",
       "    <tr>\n",
       "      <th>806243</th>\n",
       "      <td>20200103-M-ATP_Cup-RR-Alex_De_Minaur-Alexander...</td>\n",
       "      <td>207</td>\n",
       "      <td>1</td>\n",
       "      <td>1</td>\n",
       "      <td>5.0</td>\n",
       "      <td>2.0</td>\n",
       "      <td>40-30</td>\n",
       "      <td>31 (6)</td>\n",
       "      <td>1.0</td>\n",
       "      <td>0</td>\n",
       "      <td>...</td>\n",
       "      <td>NaN</td>\n",
       "      <td>False</td>\n",
       "      <td>False</td>\n",
       "      <td>False</td>\n",
       "      <td>True</td>\n",
       "      <td>False</td>\n",
       "      <td>False</td>\n",
       "      <td>1</td>\n",
       "      <td>1</td>\n",
       "      <td>11</td>\n",
       "    </tr>\n",
       "  </tbody>\n",
       "</table>\n",
       "<p>806244 rows × 30 columns</p>\n",
       "</div>"
      ],
      "text/plain": [
       "                                                 match_id   Pt  Set1  Set2  \\\n",
       "0       20091129-M-Tour_Finals-F-Nikolay_Davydenko-Jua...    1     0     0   \n",
       "1       20091129-M-Tour_Finals-F-Nikolay_Davydenko-Jua...    2     0     0   \n",
       "2       20091129-M-Tour_Finals-F-Nikolay_Davydenko-Jua...    3     0     0   \n",
       "3       20091129-M-Tour_Finals-F-Nikolay_Davydenko-Jua...    4     0     0   \n",
       "4       20091129-M-Tour_Finals-F-Nikolay_Davydenko-Jua...    5     0     0   \n",
       "...                                                   ...  ...   ...   ...   \n",
       "806239  20200103-M-ATP_Cup-RR-Alex_De_Minaur-Alexander...  203     1     1   \n",
       "806240  20200103-M-ATP_Cup-RR-Alex_De_Minaur-Alexander...  204     1     1   \n",
       "806241  20200103-M-ATP_Cup-RR-Alex_De_Minaur-Alexander...  205     1     1   \n",
       "806242  20200103-M-ATP_Cup-RR-Alex_De_Minaur-Alexander...  206     1     1   \n",
       "806243  20200103-M-ATP_Cup-RR-Alex_De_Minaur-Alexander...  207     1     1   \n",
       "\n",
       "        Gm1  Gm2    Pts     Gm# TbSet TB?  ...  2ndIn  isAce  isUnret  \\\n",
       "0       0.0  0.0    0-0       1     1   0  ...    NaN  False    False   \n",
       "1       0.0  0.0   15-0       1     1   0  ...    1.0  False    False   \n",
       "2       0.0  0.0   30-0       1     1   0  ...    NaN  False    False   \n",
       "3       0.0  0.0   40-0       1     1   0  ...    NaN  False    False   \n",
       "4       1.0  0.0    0-0       2     1   0  ...    NaN  False    False   \n",
       "...     ...  ...    ...     ...   ...  ..  ...    ...    ...      ...   \n",
       "806239  5.0  2.0   15-0  31 (2)   1.0   0  ...    1.0  False    False   \n",
       "806240  5.0  2.0   30-0  31 (3)   1.0   0  ...    1.0  False    False   \n",
       "806241  5.0  2.0   40-0  31 (4)   1.0   0  ...    NaN  False    False   \n",
       "806242  5.0  2.0  40-15  31 (5)   1.0   0  ...    NaN  False    False   \n",
       "806243  5.0  2.0  40-30  31 (6)   1.0   0  ...    NaN  False    False   \n",
       "\n",
       "       isRallyWinner isForced isUnforced isDouble  PtWinner  isSvrWinner  \\\n",
       "0              False     True      False    False         1            1   \n",
       "1              False    False       True    False         1            1   \n",
       "2              False    False       True    False         1            1   \n",
       "3              False    False       True    False         1            1   \n",
       "4              False     True      False    False         2            1   \n",
       "...              ...      ...        ...      ...       ...          ...   \n",
       "806239         False    False       True    False         1            1   \n",
       "806240          True    False      False    False         1            1   \n",
       "806241         False    False       True    False         2            0   \n",
       "806242         False    False       True    False         2            0   \n",
       "806243         False     True      False    False         1            1   \n",
       "\n",
       "        rallyCount  \n",
       "0              1.0  \n",
       "1              5.0  \n",
       "2              7.0  \n",
       "3              3.0  \n",
       "4              1.0  \n",
       "...            ...  \n",
       "806239          11  \n",
       "806240           9  \n",
       "806241          10  \n",
       "806242           6  \n",
       "806243          11  \n",
       "\n",
       "[806244 rows x 30 columns]"
      ]
     },
     "execution_count": 9,
     "metadata": {},
     "output_type": "execute_result"
    }
   ],
   "source": [
    "Points"
   ]
  },
  {
   "cell_type": "code",
   "execution_count": 10,
   "metadata": {},
   "outputs": [],
   "source": [
    "#Para cada jogador, retorna todos os pontos disputados em cada um de seus jogos\n",
    "\n",
    "Federer_Games_Points = Points[Points['match_id'].isin(Federer_Id)].reset_index(drop=True)\n",
    "Nadal_Games_Points = Points[Points['match_id'].isin(Nadal_Id)].reset_index(drop=True)\n",
    "Djokovic_Games_Points = Points[Points['match_id'].isin(Djokovic_Id)].reset_index(drop=True)"
   ]
  },
  {
   "cell_type": "code",
   "execution_count": 11,
   "metadata": {},
   "outputs": [],
   "source": [
    "# Retornar apenas os pontos vencidos por cada jogador\n",
    "\n",
    "Federer_Points, Federer_Points_Lost = PlayerPoints('Roger Federer', Federer_Games_Points, Federer_Matches)\n",
    "Nadal_Points, Nadal_Points_Lost = PlayerPoints('Rafael Nadal', Nadal_Games_Points, Nadal_Matches)\n",
    "Djokovic_Points, Djokovic_Points_Lost = PlayerPoints('Novak Djokovic', Djokovic_Games_Points, Djokovic_Matches)"
   ]
  },
  {
   "cell_type": "code",
   "execution_count": 12,
   "metadata": {},
   "outputs": [],
   "source": [
    "# Retorna os pontos vencidos nos quais estavam no saque\n",
    "\n",
    "Federer_Serve_Points = Federer_Points[Federer_Points['Svr'] == Federer_Points['PtWinner']]\n",
    "Nadal_Serve_Points = Nadal_Points[Nadal_Points['Svr'] == Nadal_Points['PtWinner']]\n",
    "Djokovic_Serve_Points = Djokovic_Points[Djokovic_Points['Svr'] == Djokovic_Points['PtWinner']]"
   ]
  },
  {
   "cell_type": "code",
   "execution_count": 13,
   "metadata": {},
   "outputs": [
    {
     "data": {
      "text/plain": [
       "Index(['match_id', 'Pt', 'Set1', 'Set2', 'Gm1', 'Gm2', 'Pts', 'Gm#', 'TbSet',\n",
       "       'TB?', 'TBpt', 'Svr', 'Ret', 'Serving', '1st', '2nd', 'Notes', '1stSV',\n",
       "       '2ndSV', '1stIn', '2ndIn', 'isAce', 'isUnret', 'isRallyWinner',\n",
       "       'isForced', 'isUnforced', 'isDouble', 'PtWinner', 'isSvrWinner',\n",
       "       'rallyCount'],\n",
       "      dtype='object')"
      ]
     },
     "execution_count": 13,
     "metadata": {},
     "output_type": "execute_result"
    }
   ],
   "source": [
    "Federer_Serve_Points.columns"
   ]
  },
  {
   "cell_type": "code",
   "execution_count": 14,
   "metadata": {},
   "outputs": [],
   "source": [
    "PointsColumns = ['1stIn', '2ndIn', 'isAce', 'isUnret', 'isRallyWinner',\n",
    "       'isForced', 'isUnforced', 'isDouble']\n",
    "\n",
    "ServeColumns = ['1stIn', 'isAce', 'isUnret', 'isRallyWinner',\n",
    "       'isForced', 'isUnforced']"
   ]
  },
  {
   "cell_type": "code",
   "execution_count": 15,
   "metadata": {},
   "outputs": [
    {
     "name": "stdout",
     "output_type": "stream",
     "text": [
      "isAce\n",
      "False    740971\n",
      "True      65273\n",
      "Name: count, dtype: int64\n"
     ]
    },
    {
     "data": {
      "text/plain": [
       "1stIn\n",
       "1    23220\n",
       "0    10584\n",
       "Name: count, dtype: int64"
      ]
     },
     "execution_count": 15,
     "metadata": {},
     "output_type": "execute_result"
    }
   ],
   "source": [
    "print(Points['isAce'].value_counts())\n",
    "Federer_Serve_Points['1stIn'].value_counts()"
   ]
  },
  {
   "cell_type": "code",
   "execution_count": 21,
   "metadata": {},
   "outputs": [
    {
     "name": "stdout",
     "output_type": "stream",
     "text": [
      "1stIn percentage : 0.3867352811307743\n",
      "2ndIn percentage : 0.09164169580390828\n",
      "isAce percentage : 0.08095936217819916\n",
      "isUnret percentage : 0.014758559443543146\n",
      "isRallyWinner percentage : 0.23605757066099098\n",
      "isForced percentage : 0.316584061400767\n",
      "isUnforced percentage : 0.3067681743988172\n",
      "isDouble percentage : 0.034508163781683955\n"
     ]
    }
   ],
   "source": [
    "ResumeStats(Points,PointsColumns)"
   ]
  },
  {
   "cell_type": "markdown",
   "metadata": {},
   "source": [
    "# Visualização"
   ]
  },
  {
   "cell_type": "code",
   "execution_count": 17,
   "metadata": {},
   "outputs": [],
   "source": [
    "GrassMatches = len(matches[matches['Surface'] == 'Grass'])\n",
    "ClayMatches = len(matches[matches['Surface'] == 'Clay'])\n",
    "HardMatches = len(matches[matches['Surface'] == 'Hard'])"
   ]
  },
  {
   "cell_type": "code",
   "execution_count": 18,
   "metadata": {},
   "outputs": [],
   "source": [
    "pd.options.display.max_columns = None"
   ]
  }
 ],
 "metadata": {
  "kernelspec": {
   "display_name": "Python 3",
   "language": "python",
   "name": "python3"
  },
  "language_info": {
   "codemirror_mode": {
    "name": "ipython",
    "version": 3
   },
   "file_extension": ".py",
   "mimetype": "text/x-python",
   "name": "python",
   "nbconvert_exporter": "python",
   "pygments_lexer": "ipython3",
   "version": "3.12.4"
  }
 },
 "nbformat": 4,
 "nbformat_minor": 2
}
