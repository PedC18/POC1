{
 "cells": [
  {
   "cell_type": "code",
   "execution_count": 1,
   "metadata": {},
   "outputs": [],
   "source": [
    "import pandas as pd\n",
    "import matplotlib.pyplot as plt\n",
    "from utils.Stats import KeyPointsData,AllStats,AggregateStats\n",
    "import numpy as np\n",
    "import os\n",
    "import csv\n",
    "import warnings"
   ]
  },
  {
   "cell_type": "code",
   "execution_count": 2,
   "metadata": {},
   "outputs": [],
   "source": [
    "pd.options.display.max_columns = None\n",
    "warnings.filterwarnings('ignore')\n",
    "# matches = pd.read_csv('BaseData/charting-m-matches.csv', encoding='unicode_escape',quoting=csv.QUOTE_NONE)\n",
    "# points = pd.read_csv('ProjData/Points.csv',encoding='unicode_escape',quoting=csv.QUOTE_NONE)"
   ]
  },
  {
   "cell_type": "code",
   "execution_count": 3,
   "metadata": {},
   "outputs": [],
   "source": [
    "FedererStart = pd.read_csv('Federer_data/FedererStart.csv')\n",
    "FedererMiddle = pd.read_csv('Federer_data/FedererMiddle.csv')\n",
    "FedererEnd = pd.read_csv('Federer_data/FedererEnd.csv')\n",
    "\n",
    "Federer = pd.concat([FedererStart,FedererMiddle,FedererEnd],axis = 0)\n",
    "\n",
    "NadalStart = pd.read_csv('Nadal_data/NadalStart.csv')\n",
    "NadalMiddle = pd.read_csv('Nadal_data/NadalMiddle.csv')\n",
    "NadalEnd = pd.read_csv('Nadal_data/NadalEnd.csv')\n",
    "\n",
    "Nadal = pd.concat([NadalStart,NadalMiddle,NadalEnd],axis = 0)\n",
    "\n",
    "DjokovicStart = pd.read_csv('Djokovic_data/DjokovicStart.csv')\n",
    "DjokovicMiddle = pd.read_csv('Djokovic_data/DjokovicMiddle.csv')\n",
    "DjokovicEnd = pd.read_csv('Djokovic_data/DjokovicEnd.csv')\n",
    "\n",
    "Djokovic = pd.concat([DjokovicStart,DjokovicMiddle,DjokovicEnd],axis = 0)"
   ]
  },
  {
   "cell_type": "code",
   "execution_count": 4,
   "metadata": {},
   "outputs": [
    {
     "data": {
      "text/plain": [
       "342"
      ]
     },
     "execution_count": 4,
     "metadata": {},
     "output_type": "execute_result"
    }
   ],
   "source": [
    "len(Nadal)"
   ]
  },
  {
   "cell_type": "code",
   "execution_count": 5,
   "metadata": {},
   "outputs": [],
   "source": [
    "a = ['S','R']\n",
    "\n",
    "PointsFedererStart = pd.read_csv('Federer_data/PointsFedererStart.csv')\n",
    "PointsFedererStart = PointsFedererStart[~PointsFedererStart['1st'].isin(a)]\n",
    "\n",
    "PointsFedererMiddle = pd.read_csv('Federer_data/PointsFedererMiddle.csv')\n",
    "PointsFedererMiddle = PointsFedererMiddle[~PointsFedererMiddle['1st'].isin(a)]\n",
    "\n",
    "PointsFedererEnd = pd.read_csv('Federer_data/PointsFedererEnd.csv')\n",
    "PointsFedererEnd = PointsFedererEnd[~PointsFedererEnd['1st'].isin(a)]\n",
    "\n",
    "PointsFederer = pd.concat([PointsFedererStart,PointsFedererMiddle,PointsFedererEnd],axis = 0)\n",
    "\n",
    "PointsNadalStart = pd.read_csv('Nadal_data/PointsNadalStart.csv')\n",
    "PointsNadalStart = PointsNadalStart[~PointsNadalStart['1st'].isin(a)]\n",
    "\n",
    "PointsNadalMiddle = pd.read_csv('Nadal_data/PointsNadalMiddle.csv')\n",
    "PointsNadalMiddle = PointsNadalMiddle[~PointsNadalMiddle['1st'].isin(a)]\n",
    "\n",
    "PointsNadalEnd = pd.read_csv('Nadal_data/PointsNadalEnd.csv')\n",
    "PointsNadalEnd = PointsNadalEnd[~PointsNadalEnd['1st'].isin(a)]\n",
    "\n",
    "PointsNadal = pd.concat([PointsNadalStart,PointsNadalMiddle,PointsNadalEnd],axis = 0)\n",
    "\n",
    "PointsDjokovicStart = pd.read_csv('Djokovic_data/PointsDjokovicStart.csv')\n",
    "PointsDjokovicStart = PointsDjokovicStart[~PointsDjokovicStart['1st'].isin(a)]\n",
    "\n",
    "PointsDjokovicMiddle = pd.read_csv('Djokovic_data/PointsDjokovicMiddle.csv')\n",
    "PointsDjokovicMiddle = PointsDjokovicMiddle[~PointsDjokovicMiddle['1st'].isin(a)]\n",
    "\n",
    "PointsDjokovicEnd = pd.read_csv('Djokovic_data/PointsDjokovicEnd.csv')\n",
    "PointsDjokovicEnd = PointsDjokovicEnd[~PointsDjokovicEnd['1st'].isin(a)]\n",
    "\n",
    "PointsDjokovic = pd.concat([PointsDjokovicStart,PointsDjokovicMiddle,PointsDjokovicEnd],axis = 0)"
   ]
  },
  {
   "cell_type": "code",
   "execution_count": 6,
   "metadata": {},
   "outputs": [],
   "source": [
    "dataF= AllStats(Federer,'Roger Federer')\n",
    "dataN= AllStats(Nadal,'Rafael Nadal')\n",
    "dataD= AllStats(Djokovic,'Novak Djokovic')"
   ]
  },
  {
   "cell_type": "code",
   "execution_count": 7,
   "metadata": {},
   "outputs": [],
   "source": [
    "dataFStart = AllStats(FedererStart,'Roger Federer')\n",
    "dataFMiddle = AllStats(FedererMiddle,'Roger Federer')\n",
    "dataFEnd = AllStats(FedererEnd,'Roger Federer')"
   ]
  },
  {
   "cell_type": "code",
   "execution_count": 8,
   "metadata": {},
   "outputs": [],
   "source": [
    "dataDStart = AllStats(DjokovicStart,'Novak Djokovic')\n",
    "dataDMiddle = AllStats(DjokovicMiddle,'Novak Djokovic')\n",
    "dataDEnd = AllStats(DjokovicEnd,'Novak Djokovic')"
   ]
  },
  {
   "cell_type": "code",
   "execution_count": 9,
   "metadata": {},
   "outputs": [],
   "source": [
    "dataNStart = AllStats(NadalStart,'Rafael Nadal')\n",
    "dataNMiddle = AllStats(NadalMiddle,'Rafael Nadal')\n",
    "dataNEnd = AllStats(NadalEnd,'Rafael Nadal')"
   ]
  },
  {
   "cell_type": "code",
   "execution_count": 10,
   "metadata": {},
   "outputs": [],
   "source": [
    "F_RallyServe_Start,F_RallyReception_Start,F_Shots_Start,F_Net_Start,F_KPServe_Start,F_KPReturn_Start = AggregateStats(dataFStart,FedererStart)\n",
    "F_RallyServe_Middle,F_RallyReception_Middle,F_Shots_Middle,F_Net_Middle,F_KPServe_Middle,F_KPReturn_Middle = AggregateStats(dataFMiddle,FedererMiddle)\n",
    "F_RallyServe_End,F_RallyReception_End,F_Shots_End,F_Net_End,F_KPServe_End,F_KPReturn_End = AggregateStats(dataFEnd,FedererEnd)"
   ]
  },
  {
   "cell_type": "code",
   "execution_count": 11,
   "metadata": {},
   "outputs": [],
   "source": [
    "D_RallyServe_Start,D_RallyReception_Start,D_Shots_Start,D_Net_Start,D_KPServe_Start,D_KPReturn_Start = AggregateStats(dataDStart,DjokovicStart)\n",
    "D_RallyServe_Middle,D_RallyReception_Middle,D_Shots_Middle,D_Net_Middle,D_KPServe_Middle,D_KPReturn_Middle = AggregateStats(dataDMiddle,DjokovicMiddle)\n",
    "D_RallyServe_End,D_RallyReception_End,D_Shots_End,D_Net_End,D_KPServe_End,D_KPReturn_End = AggregateStats(dataDEnd,DjokovicEnd)"
   ]
  },
  {
   "cell_type": "code",
   "execution_count": 12,
   "metadata": {},
   "outputs": [],
   "source": [
    "N_RallyServe_Start,N_RallyReception_Start,N_Shots_Start,N_Net_Start,N_KPServe_Start,N_KPReturn_Start = AggregateStats(dataNStart,NadalStart)\n",
    "N_RallyServe_Middle,N_RallyReception_Middle,N_Shots_Middle,N_Net_Middle,N_KPServe_Middle,N_KPReturn_Middle = AggregateStats(dataNMiddle,NadalMiddle)\n",
    "N_RallyServe_End,N_RallyReception_End,N_Shots_End,N_Net_End,N_KPServe_End,N_KPReturn_End = AggregateStats(dataNEnd,NadalEnd)"
   ]
  },
  {
   "cell_type": "markdown",
   "metadata": {},
   "source": [
    "# Grass"
   ]
  },
  {
   "cell_type": "code",
   "execution_count": 13,
   "metadata": {},
   "outputs": [],
   "source": [
    "F_RallyServe_Start,F_RallyReception_Start,F_Shots_Start,F_Net_Start,F_KPServe_Start,F_KPReturn_Start = AggregateStats(dataFStart,FedererStart,surface='Grass')\n",
    "F_RallyServe_Middle,F_RallyReception_Middle,F_Shots_Middle,F_Net_Middle,F_KPServe_Middle,F_KPReturn_Middle = AggregateStats(dataFMiddle,FedererMiddle,surface='Grass')\n",
    "F_RallyServe_End,F_RallyReception_End,F_Shots_End,F_Net_End,F_KPServe_End,F_KPReturn_End = AggregateStats(dataFEnd,FedererEnd,surface='Grass')\n",
    "\n",
    "D_RallyServe_Start,D_RallyReception_Start,D_Shots_Start,D_Net_Start,D_KPServe_Start,D_KPReturn_Start = AggregateStats(dataDStart,DjokovicStart,surface='Grass')\n",
    "D_RallyServe_Middle,D_RallyReception_Middle,D_Shots_Middle,D_Net_Middle,D_KPServe_Middle,D_KPReturn_Middle = AggregateStats(dataDMiddle,DjokovicMiddle,surface='Grass')\n",
    "D_RallyServe_End,D_RallyReception_End,D_Shots_End,D_Net_End,D_KPServe_End,D_KPReturn_End = AggregateStats(dataDEnd,DjokovicEnd,surface='Grass')\n",
    "\n",
    "N_RallyServe_Start,N_RallyReception_Start,N_Shots_Start,N_Net_Start,N_KPServe_Start,N_KPReturn_Start = AggregateStats(dataNStart,NadalStart,surface='Grass')\n",
    "N_RallyServe_Middle,N_RallyReception_Middle,N_Shots_Middle,N_Net_Middle,N_KPServe_Middle,N_KPReturn_Middle = AggregateStats(dataNMiddle,NadalMiddle,surface='Grass')\n",
    "N_RallyServe_End,N_RallyReception_End,N_Shots_End,N_Net_End,N_KPServe_End,N_KPReturn_End = AggregateStats(dataNEnd,NadalEnd,surface='Grass')"
   ]
  },
  {
   "cell_type": "markdown",
   "metadata": {},
   "source": [
    "# Clay"
   ]
  },
  {
   "cell_type": "code",
   "execution_count": 14,
   "metadata": {},
   "outputs": [],
   "source": [
    "F_RallyServe_Start,F_RallyReception_Start,F_Shots_Start,F_Net_Start,F_KPServe_Start,F_KPReturn_Start = AggregateStats(dataFStart,FedererStart,surface='Clay')\n",
    "F_RallyServe_Middle,F_RallyReception_Middle,F_Shots_Middle,F_Net_Middle,F_KPServe_Middle,F_KPReturn_Middle = AggregateStats(dataFMiddle,FedererMiddle,surface='Clay')\n",
    "F_RallyServe_End,F_RallyReception_End,F_Shots_End,F_Net_End,F_KPServe_End,F_KPReturn_End = AggregateStats(dataFEnd,FedererEnd,surface='Clay')\n",
    "\n",
    "D_RallyServe_Start,D_RallyReception_Start,D_Shots_Start,D_Net_Start,D_KPServe_Start,D_KPReturn_Start = AggregateStats(dataDStart,DjokovicStart,surface='Clay')\n",
    "D_RallyServe_Middle,D_RallyReception_Middle,D_Shots_Middle,D_Net_Middle,D_KPServe_Middle,D_KPReturn_Middle = AggregateStats(dataDMiddle,DjokovicMiddle,surface='Clay')\n",
    "D_RallyServe_End,D_RallyReception_End,D_Shots_End,D_Net_End,D_KPServe_End,D_KPReturn_End = AggregateStats(dataDEnd,DjokovicEnd,surface='Clay')\n",
    "\n",
    "N_RallyServe_Start,N_RallyReception_Start,N_Shots_Start,N_Net_Start,N_KPServe_Start,N_KPReturn_Start = AggregateStats(dataNStart,NadalStart,surface='Clay')\n",
    "N_RallyServe_Middle,N_RallyReception_Middle,N_Shots_Middle,N_Net_Middle,N_KPServe_Middle,N_KPReturn_Middle = AggregateStats(dataNMiddle,NadalMiddle,surface='Clay')\n",
    "N_RallyServe_End,N_RallyReception_End,N_Shots_End,N_Net_End,N_KPServe_End,N_KPReturn_End = AggregateStats(dataNEnd,NadalEnd,surface='Clay')"
   ]
  },
  {
   "cell_type": "markdown",
   "metadata": {},
   "source": [
    "# Hard"
   ]
  },
  {
   "cell_type": "code",
   "execution_count": 15,
   "metadata": {},
   "outputs": [],
   "source": [
    "F_RallyServe_Start,F_RallyReception_Start,F_Shots_Start,F_Net_Start,F_KPServe_Start,F_KPReturn_Start = AggregateStats(dataFStart,FedererStart,surface='Hard')\n",
    "F_RallyServe_Middle,F_RallyReception_Middle,F_Shots_Middle,F_Net_Middle,F_KPServe_Middle,F_KPReturn_Middle = AggregateStats(dataFMiddle,FedererMiddle,surface='Hard')\n",
    "F_RallyServe_End,F_RallyReception_End,F_Shots_End,F_Net_End,F_KPServe_End,F_KPReturn_End = AggregateStats(dataFEnd,FedererEnd,surface='Hard')\n",
    "\n",
    "D_RallyServe_Start,D_RallyReception_Start,D_Shots_Start,D_Net_Start,D_KPServe_Start,D_KPReturn_Start = AggregateStats(dataDStart,DjokovicStart,surface='Hard')\n",
    "D_RallyServe_Middle,D_RallyReception_Middle,D_Shots_Middle,D_Net_Middle,D_KPServe_Middle,D_KPReturn_Middle = AggregateStats(dataDMiddle,DjokovicMiddle,surface='Hard')\n",
    "D_RallyServe_End,D_RallyReception_End,D_Shots_End,D_Net_End,D_KPServe_End,D_KPReturn_End = AggregateStats(dataDEnd,DjokovicEnd,surface='Hard')\n",
    "\n",
    "N_RallyServe_Start,N_RallyReception_Start,N_Shots_Start,N_Net_Start,N_KPServe_Start,N_KPReturn_Start = AggregateStats(dataNStart,NadalStart,surface='Hard')\n",
    "N_RallyServe_Middle,N_RallyReception_Middle,N_Shots_Middle,N_Net_Middle,N_KPServe_Middle,N_KPReturn_Middle = AggregateStats(dataNMiddle,NadalMiddle,surface='Hard')\n",
    "N_RallyServe_End,N_RallyReception_End,N_Shots_End,N_Net_End,N_KPServe_End,N_KPReturn_End = AggregateStats(dataNEnd,NadalEnd,surface='Hard')"
   ]
  }
 ],
 "metadata": {
  "kernelspec": {
   "display_name": "Python 3",
   "language": "python",
   "name": "python3"
  },
  "language_info": {
   "codemirror_mode": {
    "name": "ipython",
    "version": 3
   },
   "file_extension": ".py",
   "mimetype": "text/x-python",
   "name": "python",
   "nbconvert_exporter": "python",
   "pygments_lexer": "ipython3",
   "version": "3.12.4"
  }
 },
 "nbformat": 4,
 "nbformat_minor": 2
}
