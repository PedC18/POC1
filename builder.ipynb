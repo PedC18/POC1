{
 "cells": [
  {
   "cell_type": "code",
   "execution_count": 22,
   "metadata": {},
   "outputs": [],
   "source": [
    "import pandas as pd\n",
    "import matplotlib.pyplot as plt\n",
    "from utils.Points import PlayerPoints, PlayerServes\n",
    "from utils.Builder import Builder\n",
    "from utils.Tools import GetMatches\n",
    "import numpy as np\n",
    "import os\n",
    "import csv\n",
    "import warnings"
   ]
  },
  {
   "cell_type": "code",
   "execution_count": 23,
   "metadata": {},
   "outputs": [],
   "source": [
    "warnings.filterwarnings('ignore')"
   ]
  },
  {
   "cell_type": "code",
   "execution_count": 24,
   "metadata": {},
   "outputs": [],
   "source": [
    "SymbolsDictionary = {\"F\" : \"Forehand\", \n",
    "                     \"B\" : \"Backhand\", \n",
    "                     \"R\" :\"FH Slice\", \n",
    "                     \"S\" : \"BH Slice\", \n",
    "                     \"V\" : \"FH Volley\", \n",
    "                     \"Z\" : \"BH Volley\"}\n",
    "\n",
    "EndDict = {\"*\": (\"Winner\",\"Ace\"),\n",
    "           \"@\": \"Unforced Error\",\n",
    "           \"#\" : \"Forced Error\"}"
   ]
  },
  {
   "cell_type": "code",
   "execution_count": 25,
   "metadata": {},
   "outputs": [],
   "source": [
    "# Builder('Roger Federer',(2005,2020))"
   ]
  },
  {
   "cell_type": "code",
   "execution_count": 26,
   "metadata": {},
   "outputs": [],
   "source": [
    "    # directory_name = player +'_data'\n",
    "\n",
    "    # try:\n",
    "    #     os.mkdir(directory_name)\n",
    "    #     print(f\"Directory '{directory_name}' created successfully.\")\n",
    "    # except FileExistsError:\n",
    "    #     print(f\"Directory '{directory_name}' already exists.\")\n",
    "    # except PermissionError:\n",
    "    #     print(f\"Permission denied: Unable to create '{directory_name}'.\")\n",
    "    # except Exception as e:\n",
    "    #     print(f\"An error occurred: {e}\")"
   ]
  },
  {
   "cell_type": "code",
   "execution_count": 27,
   "metadata": {},
   "outputs": [],
   "source": [
    "# matches = pd.read_csv('BaseData/charting-m-matches.csv', encoding='unicode_escape',quoting=csv.QUOTE_NONE)\n",
    "# Base = pd.read_csv('BaseData/atp_matches_2012.csv',encoding='unicode_escape',quoting=csv.QUOTE_NONE)"
   ]
  },
  {
   "cell_type": "code",
   "execution_count": 28,
   "metadata": {},
   "outputs": [],
   "source": [
    "    # matches = pd.read_csv('BaseData/charting-m-matches.csv', encoding='unicode_escape',quoting=csv.QUOTE_NONE)\n",
    "\n",
    "    # matches2012 = matches[matches['Date'].str[:4] == '2012']\n",
    "    # matches2012 = matches2012\n",
    "\n",
    "    # FedererGames = matches2012[(matches2012['Player 1'] == 'Roger Federer') | (matches2012['Player 2'] == 'Roger Federer')]\n",
    "    # NadalGames = matches2012[(matches2012['Player 1'] == 'Rafael Nadal') | (matches2012['Player 2'] == 'Rafael Nadal')]\n",
    "    # DjokovicGames = matches2012[(matches2012['Player 1'] == 'Novak Djokovic') | (matches2012['Player 2'] == 'Novak Djokovic')]\n",
    "\n",
    "    # Points = pd.read_csv('ProjData/Points.csv')\n",
    "\n",
    "    # FedererAux = FedererGames[['match_id','Player 1', 'Player 2','Surface']]\n",
    "    # NadalAux = NadalGames[['match_id','Player 1', 'Player 2','Surface']]\n",
    "    # DjokovicAux = DjokovicGames[['match_id','Player 1', 'Player 2','Surface']]\n",
    "\n",
    "    # PointsFederer = pd.merge(Points,FedererAux, on='match_id')\n",
    "    # PointsNadal = pd.merge(Points,NadalAux, on='match_id')\n",
    "    # PointsDjokovic = pd.merge(Points,DjokovicAux, on='match_id')\n",
    "\n",
    "    # Victor(PointsFederer,FedererGames)\n",
    "    # Victor(PointsDjokovic,DjokovicGames)\n",
    "    # Victor(PointsNadal,NadalGames)\n",
    "\n",
    "    # FedererGames.to_csv('ProjData/Federer2012.csv',index=False)\n",
    "    # NadalGames.to_csv('ProjData/Nadal2012.csv',index=False)\n",
    "    # DjokovicGames.to_csv('ProjData/Djokovic2012.csv',index=False)\n",
    "\n",
    "    # PointsFederer['Victor'] = PtWinner(PointsFederer,'Roger Federer', FedererGames)\n",
    "    # PointsNadal['Victor'] = PtWinner(PointsNadal,'Rafael Nadal', NadalGames)\n",
    "    # PointsDjokovic['Victor'] = PtWinner(PointsDjokovic,'Novak Djokovic', DjokovicGames)\n",
    "\n",
    "    # PointsFederer['Server'] = Server(PointsFederer,'Roger Federer', FedererGames)\n",
    "    # PointsNadal['Server'] = Server(PointsNadal,'Rafael Nadal', NadalGames)\n",
    "    # PointsDjokovic['Server'] = Server(PointsDjokovic,'Novak Djokovic', DjokovicGames)\n",
    "\n",
    "    # PointsFederer[['Ace','Winner','Unforced Error','Forced Error','Double Fault']] = None\n",
    "    # PointsDjokovic[['Ace','Winner','Unforced Error','Forced Error','Double Fault']] = None\n",
    "    # PointsNadal[['Ace','Winner','Unforced Error','Forced Error','Double Fault']] = None\n",
    "\n",
    "    # PointsFederer.loc[(PointsFederer['2nd'].isna()), ['2nd']] = None\n",
    "    # PointsNadal.loc[(PointsNadal['2nd'].isna()), ['2nd']] = None\n",
    "    # PointsDjokovic.loc[(PointsDjokovic['2nd'].isna()), ['2nd']] = None\n",
    "\n",
    "    # PtEnding(PointsFederer,EndDict)\n",
    "    # PtEnding(PointsDjokovic,EndDict)\n",
    "    # PtEnding(PointsNadal,EndDict)\n",
    "\n",
    "    # PointsFederer.to_csv('ProjData/PointsFederer.csv',index=False)\n",
    "    # PointsDjokovic.to_csv('ProjData/PointsDjokovic.csv',index=False)\n",
    "    # PointsNadal.to_csv('ProjData/PointsNadal.csv',index=False)\n",
    "\n",
    "    # PointsFederer.to_csv('ProjData/PointsFederer.csv',index=False)\n",
    "    # PointsDjokovic.to_csv('ProjData/PointsDjokovic.csv',index=False)\n",
    "    # PointsNadal.to_csv('ProjData/PointsNadal.csv',index=False)"
   ]
  },
  {
   "cell_type": "code",
   "execution_count": 29,
   "metadata": {},
   "outputs": [],
   "source": [
    "Federer = 'Roger Federer'\n",
    "Nadal = 'Rafael Nadal'\n",
    "Djokovic = 'Novak Djokovic'"
   ]
  },
  {
   "cell_type": "code",
   "execution_count": 58,
   "metadata": {},
   "outputs": [],
   "source": [
    "matches = pd.read_csv('BaseData/charting-m-matches.csv', encoding='unicode_escape',quoting=csv.QUOTE_NONE)\n",
    "points = pd.read_csv('ProjData/Points.csv',encoding='unicode_escape',quoting=csv.QUOTE_NONE)\n"
   ]
  },
  {
   "cell_type": "code",
   "execution_count": 33,
   "metadata": {},
   "outputs": [],
   "source": [
    "def DivisionGames(Points,ids):\n",
    "    GamesPerMatches = {}\n",
    "    for id in ids:\n",
    "        Match = Points[Points['match_id'] == id]\n",
    "        \n",
    "        Games_Matrix = []\n",
    "        size = int(max(Match['Gm#']))\n",
    "        \n",
    "        for i in range(1,size + 1):\n",
    "            Game = Match[Match['Gm#'] == i]\n",
    "\n",
    "            Rallys = []\n",
    "            for _,row in Game.iterrows():\n",
    "            \n",
    "                if(row['2nd'] == 'False'):\n",
    "                    Rallys.append(row['1st'])\n",
    "                else:\n",
    "                    Rallys.append(row['2nd'])\n",
    "\n",
    "            Games_Matrix.append(Rallys)\n",
    "        \n",
    "        GamesPerMatches[id] = Games_Matrix\n",
    "    \n",
    "    return GamesPerMatches\n"
   ]
  },
  {
   "cell_type": "code",
   "execution_count": 34,
   "metadata": {},
   "outputs": [],
   "source": [
    "FedererGames = pd.read_csv('Federer_data/PointsFedererStart.csv')"
   ]
  },
  {
   "cell_type": "code",
   "execution_count": 35,
   "metadata": {},
   "outputs": [],
   "source": [
    "GameDict = DivisionGames(FedererGames,FedererGames['match_id'].unique())"
   ]
  },
  {
   "cell_type": "code",
   "execution_count": 40,
   "metadata": {},
   "outputs": [],
   "source": [
    "pd.options.display.max_columns = None"
   ]
  },
  {
   "cell_type": "code",
   "execution_count": 55,
   "metadata": {},
   "outputs": [],
   "source": [
    "def DivisionSets(Points,ids):\n",
    "    SetPerMatches = {}\n",
    "    for id in ids:\n",
    "        Match = Points[Points['match_id'] == id]\n",
    "        Sets_Matrix = []\n",
    "        size = int(max(Match['Set#']))\n",
    "\n",
    "        for i in range(1,size + 1):\n",
    "            Set = Match[Match['Set#'] == i]\n",
    "\n",
    "            Rallys = []\n",
    "            for _,row in Set.iterrows():\n",
    "            \n",
    "                if(row['2nd'] == 'False'):\n",
    "                    Rallys.append(row['1st'])\n",
    "                else:\n",
    "                    Rallys.append(row['2nd']) \n",
    "                    \n",
    "            Sets_Matrix.append(Rallys)\n",
    "        \n",
    "        SetPerMatches[id] = Sets_Matrix\n",
    "    \n",
    "    return SetPerMatches\n",
    "            "
   ]
  },
  {
   "cell_type": "code",
   "execution_count": 56,
   "metadata": {},
   "outputs": [],
   "source": [
    "SetDict = DivisionSets(FedererGames,FedererGames['match_id'].unique())"
   ]
  },
  {
   "cell_type": "code",
   "execution_count": null,
   "metadata": {},
   "outputs": [],
   "source": [
    "# text = '6n+f1f2b1b2-@'\n",
    "# chars_to_remove = '+-'\n",
    "# translation_table = str.maketrans('', '', chars_to_remove)\n",
    "# updated_text = text.translate(translation_table)\n",
    "# print(updated_text)"
   ]
  },
  {
   "cell_type": "code",
   "execution_count": null,
   "metadata": {},
   "outputs": [],
   "source": [
    "\n",
    "# F = forehand groundstroke (excluding slices, chips, etc.)\n",
    "# b = backhand groundstroke (excluding slices, chips, etc.)\n",
    "\n",
    "# r = forehand slice (including defensive chips, but not drop shots)\n",
    "# s = backhand slice (including defensive chips, but not drop shots)\n",
    "# v = forehand volley\n",
    "# z = backhand volley\n",
    "# (see below for an optional additional code to indicate a stop volley/drop volley)\n",
    "\n",
    "# o = standard overhead/smash\n",
    "# p = \"backhand\" overhead/smash\n",
    "# u = forehand drop shot\n",
    "# y = backhand drop shot\n",
    "# l = forehand lob\n",
    "# m = backhand lob\n",
    "# h = forehand half-volley\n",
    "# i = backhand half-volley\n",
    "# j = forehand swinging volley\n",
    "# k = backhand swinging volley\n",
    "# t = all trick shots, including behind-the-back, between-the-legs, and \"tweeners.\"\n"
   ]
  }
 ],
 "metadata": {
  "kernelspec": {
   "display_name": "Python 3",
   "language": "python",
   "name": "python3"
  },
  "language_info": {
   "codemirror_mode": {
    "name": "ipython",
    "version": 3
   },
   "file_extension": ".py",
   "mimetype": "text/x-python",
   "name": "python",
   "nbconvert_exporter": "python",
   "pygments_lexer": "ipython3",
   "version": "3.12.4"
  }
 },
 "nbformat": 4,
 "nbformat_minor": 2
}
