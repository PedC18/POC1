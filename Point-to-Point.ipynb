{
 "cells": [
  {
   "cell_type": "code",
   "execution_count": 2,
   "metadata": {},
   "outputs": [],
   "source": [
    "import pandas as pd\n",
    "import matplotlib.pyplot as plt\n",
    "from utils.SeqMining import FindSeq,FindSeqFinal\n",
    "from utils.Stats import KeyPointsData\n",
    "import numpy as np\n",
    "import os\n",
    "import csv\n",
    "import warnings\n",
    "from sportypy.surfaces.tennis import ATPCourt, TennisCourt"
   ]
  },
  {
   "cell_type": "code",
   "execution_count": 3,
   "metadata": {},
   "outputs": [],
   "source": [
    "pd.options.display.max_columns = None\n",
    "warnings.filterwarnings('ignore')\n",
    "# matches = pd.read_csv('BaseData/charting-m-matches.csv', encoding='unicode_escape',quoting=csv.QUOTE_NONE)\n",
    "# points = pd.read_csv('ProjData/Points.csv',encoding='unicode_escape',quoting=csv.QUOTE_NONE)"
   ]
  },
  {
   "cell_type": "markdown",
   "metadata": {},
   "source": [
    "# Data"
   ]
  },
  {
   "cell_type": "code",
   "execution_count": 4,
   "metadata": {},
   "outputs": [],
   "source": [
    "FedererStart = pd.read_csv('Federer_data/FedererStart.csv')\n",
    "FedererMiddle = pd.read_csv('Federer_data/FedererMiddle.csv')\n",
    "FedererEnd = pd.read_csv('Federer_data/FedererEnd.csv')\n",
    "\n",
    "NadalStart = pd.read_csv('Nadal_data/NadalStart.csv')\n",
    "NadalMiddle = pd.read_csv('Nadal_data/NadalMiddle.csv')\n",
    "NadalEnd = pd.read_csv('Nadal_data/NadalEnd.csv')\n",
    "\n",
    "DjokovicStart = pd.read_csv('Djokovic_data/DjokovicStart.csv')\n",
    "DjokovicMiddle = pd.read_csv('Djokovic_data/DjokovicMiddle.csv')\n",
    "DjokovicEnd = pd.read_csv('Djokovic_data/DjokovicEnd.csv')"
   ]
  },
  {
   "cell_type": "code",
   "execution_count": 11,
   "metadata": {},
   "outputs": [],
   "source": [
    "a = ['S','R']\n",
    "\n",
    "PointsFedererStart = pd.read_csv('Federer_data/PointsFedererStart.csv')\n",
    "PointsFedererStart = PointsFedererStart[~PointsFedererStart['1st'].isin(a)]\n",
    "\n",
    "PointsFedererMiddle = pd.read_csv('Federer_data/PointsFedererMiddle.csv')\n",
    "PointsFedererMiddle = PointsFedererMiddle[~PointsFedererMiddle['1st'].isin(a)]\n",
    "\n",
    "PointsFedererEnd = pd.read_csv('Federer_data/PointsFedererEnd.csv')\n",
    "PointsFedererEnd = PointsFedererEnd[~PointsFedererEnd['1st'].isin(a)]\n",
    "\n",
    "PointsFederer = pd.concat([PointsFedererStart,PointsFedererMiddle,PointsFedererEnd],axis = 0)\n",
    "\n",
    "PointsNadalStart = pd.read_csv('Nadal_data/PointsNadalStart.csv')\n",
    "PointsNadalStart = PointsNadalStart[~PointsNadalStart['1st'].isin(a)]\n",
    "\n",
    "PointsNadalMiddle = pd.read_csv('Nadal_data/PointsNadalMiddle.csv')\n",
    "PointsNadalMiddle = PointsNadalMiddle[~PointsNadalMiddle['1st'].isin(a)]\n",
    "\n",
    "PointsNadalEnd = pd.read_csv('Nadal_data/PointsNadalEnd.csv')\n",
    "PointsNadalEnd = PointsNadalEnd[~PointsNadalEnd['1st'].isin(a)]\n",
    "\n",
    "PointsNadal = pd.concat([PointsNadalStart,PointsNadalMiddle,PointsNadalEnd],axis = 0)\n",
    "\n",
    "PointsDjokovicStart = pd.read_csv('Djokovic_data/PointsDjokovicStart.csv')\n",
    "PointsDjokovicStart = PointsDjokovicStart[~PointsDjokovicStart['1st'].isin(a)]\n",
    "\n",
    "PointsDjokovicMiddle = pd.read_csv('Djokovic_data/PointsDjokovicMiddle.csv')\n",
    "PointsDjokovicMiddle = PointsDjokovicMiddle[~PointsDjokovicMiddle['1st'].isin(a)]\n",
    "\n",
    "PointsDjokovicEnd = pd.read_csv('Djokovic_data/PointsDjokovicEnd.csv')\n",
    "PointsDjokovicEnd = PointsDjokovicEnd[~PointsDjokovicEnd['1st'].isin(a)]\n",
    "\n",
    "PointsDjokovic = pd.concat([PointsDjokovicStart,PointsDjokovicMiddle,PointsDjokovicEnd],axis = 0)\n"
   ]
  },
  {
   "cell_type": "code",
   "execution_count": 5,
   "metadata": {},
   "outputs": [
    {
     "name": "stdout",
     "output_type": "stream",
     "text": [
      "Most Frequent Patterns When Winning\n",
      "Forced Errors\n",
      "[(69, ('Backhand Paralelo', 'Backhand Paralelo', 'Backhand Paralelo')), (63, ('Forehand Cruzado', 'Forehand Cruzado', 'Forehand Paralelo')), (53, ('Wide Serve', 'Forehand Meio', 'Forehand Paralelo'))]\n",
      "[(84, ('Down The T Serve', 'Backhand Meio', 'Forehand Paralelo')), (83, ('Forehand Cruzado', 'Backhand Cruzado', 'Forehand Cruzado')), (81, ('Backhand Meio', 'Forehand Cruzado', 'Forehand Cruzado'))]\n",
      "[(114, ('Backhand Paralelo', 'Backhand Paralelo', 'Backhand Paralelo')), (110, ('Forehand Cruzado', 'Forehand Cruzado', 'Forehand Cruzado')), (107, ('Forehand Cruzado', 'Forehand Cruzado', 'Forehand Paralelo'))] \n",
      "\n",
      "Winners\n",
      "[(106, ('Wide Serve', 'Forehand Meio', 'Forehand Paralelo')), (64, ('Down The T Serve', 'Forehand Meio', 'Forehand Cruzado')), (64, ('Down The T Serve', 'Backhand Meio', 'Forehand Cruzado'))]\n",
      "[(118, ('Wide Serve', 'Backhand Meio', 'Forehand Cruzado')), (101, ('Forehand Paralelo', 'Backhand Paralelo', 'Forehand Paralelo')), (97, ('Forehand Paralelo', 'Backhand Meio', 'Forehand Cruzado'))]\n",
      "[(101, ('Forehand Cruzado', 'Forehand Cruzado', 'Forehand Paralelo')), (97, ('Backhand Paralelo', 'Backhand Paralelo', 'Backhand Paralelo')), (82, ('Forehand Paralelo', 'Backhand Paralelo', 'Backhand Paralelo'))] \n",
      "\n",
      "Most frequent Receiving Patterns When Winning\n",
      "Forced Errors\n",
      "[(82, ('Backhand Paralelo', 'Backhand Paralelo', 'Backhand Paralelo')), (76, ('Forehand Cruzado', 'Forehand Cruzado', 'Forehand Paralelo')), (69, ('Backhand Meio', 'Forehand Cruzado', 'Forehand Cruzado'))]\n",
      "[(102, ('Forehand Cruzado', 'Backhand Cruzado', 'Forehand Cruzado')), (64, ('Forehand Paralelo', 'Backhand Paralelo', 'Forehand Cruzado')), (63, ('Backhand Cruzado', 'Forehand Cruzado', 'Backhand Cruzado'))]\n",
      "[(140, ('Forehand Cruzado', 'Forehand Cruzado', 'Forehand Cruzado')), (131, ('Forehand Cruzado', 'Forehand Cruzado', 'Forehand Paralelo')), (131, ('Backhand Paralelo', 'Backhand Paralelo', 'Backhand Paralelo'))] \n",
      "\n",
      "Winners\n",
      "[(88, ('Backhand Paralelo', 'Backhand Paralelo', 'Backhand Paralelo')), (82, ('Forehand Cruzado', 'Forehand Cruzado', 'Forehand Paralelo')), (52, ('Forehand Paralelo', 'Backhand Paralelo', 'Backhand Paralelo'))]\n",
      "[(96, ('Forehand Paralelo', 'Backhand Paralelo', 'Forehand Cruzado')), (72, ('Forehand Paralelo', 'Backhand Meio', 'Forehand Cruzado')), (65, ('Forehand Cruzado', 'Backhand Cruzado', 'Forehand Cruzado'))]\n",
      "[(141, ('Forehand Cruzado', 'Forehand Cruzado', 'Forehand Cruzado')), (104, ('Forehand Cruzado', 'Forehand Cruzado', 'Forehand Paralelo')), (102, ('Backhand Meio', 'Forehand Cruzado', 'Forehand Cruzado'))] \n",
      "\n",
      "Most frequent Receiving Patterns When Losing\n",
      "Forced Errors\n",
      "[(72, ('Backhand Paralelo', 'Backhand Paralelo', 'Backhand Paralelo')), (68, ('Forehand Cruzado', 'Forehand Cruzado', 'Forehand Paralelo')), (60, ('Backhand Meio', 'Forehand Cruzado', 'Forehand Cruzado'))]\n",
      "[(87, ('Wide Serve', 'Backhand Meio', 'Forehand Paralelo')), (75, ('Forehand Cruzado', 'Backhand Cruzado', 'Forehand Cruzado')), (72, ('Backhand Meio', 'Forehand Paralelo', 'Forehand Paralelo'))]\n",
      "[(124, ('Backhand Paralelo', 'Backhand Paralelo', 'Backhand Paralelo')), (100, ('Backhand Meio', 'Forehand Cruzado', 'Forehand Cruzado')), (87, ('Forehand Cruzado', 'Forehand Cruzado', 'Forehand Cruzado'))] \n",
      "\n",
      "Winners\n",
      "[(67, ('Backhand Paralelo', 'Backhand Paralelo', 'Backhand Paralelo')), (53, ('Wide Serve', 'BH Slice Meio', 'Forehand Cruzado')), (50, ('Forehand Cruzado', 'Forehand Cruzado', 'Forehand Cruzado'))]\n",
      "[(115, ('Wide Serve', 'Backhand Meio', 'Forehand Paralelo')), (77, ('Forehand Cruzado', 'Backhand Cruzado', 'Forehand Cruzado')), (75, ('Wide Serve', 'Backhand Cruzado', 'Forehand Paralelo'))]\n",
      "[(114, ('Forehand Cruzado', 'Forehand Cruzado', 'Forehand Paralelo')), (110, ('Forehand Cruzado', 'Forehand Cruzado', 'Forehand Cruzado')), (104, ('Backhand Meio', 'Forehand Cruzado', 'Forehand Cruzado'))] \n",
      "\n"
     ]
    }
   ],
   "source": [
    "k = 3\n",
    "\n",
    "print('Most Frequent Patterns When Winning')\n",
    "print('Forced Errors') \n",
    "print(FindSeq(PointsFedererMiddle,k,Stat='Forced Error',serve=True, result=True)[:3])\n",
    "print(FindSeq(PointsNadalMiddle,k,Stat='Forced Error',serve=True,result=True)[:3])\n",
    "print(FindSeq(PointsDjokovicMiddle,k,Stat='Forced Error',serve=True,result=True)[:3],'\\n')\n",
    " \n",
    "print('Winners')  \n",
    "print(FindSeq(PointsFedererMiddle,k,Stat='Winner',serve=True, result=True)[:3])\n",
    "print(FindSeq(PointsNadalMiddle,k,Stat='Winner',serve=True,result=True)[:3])\n",
    "print(FindSeq(PointsDjokovicMiddle,k,Stat='Winner',serve=True,result=True)[:3],'\\n')\n",
    " \n",
    "print('Most frequent Receiving Patterns When Winning')\n",
    "print('Forced Errors')\n",
    "print(FindSeq(PointsFedererMiddle,k,Stat='Forced Error',serve=False, result=True)[:3])\n",
    "print(FindSeq(PointsNadalMiddle,k,Stat='Forced Error',serve=False,result=True)[:3])\n",
    "print(FindSeq(PointsDjokovicMiddle,k,Stat='Forced Error',serve=False,result=True)[:3],'\\n')\n",
    "\n",
    "print('Winners') \n",
    "print(FindSeq(PointsFedererMiddle,k,Stat='Winner',serve=False, result=True)[:3])\n",
    "print(FindSeq(PointsNadalMiddle,k,Stat='Winner',serve=False,result=True)[:3])\n",
    "print(FindSeq(PointsDjokovicMiddle,k,Stat='Winner',serve=False,result=True)[:3],'\\n')\n",
    " \n",
    "print('Most frequent Receiving Patterns When Losing')\n",
    "print('Forced Errors')\n",
    "print(FindSeq(PointsFedererMiddle,k,Stat='Forced Error',serve=False, result=False)[:3])\n",
    "print(FindSeq(PointsNadalMiddle,k,Stat='Forced Error',serve=False,result=False)[:3])\n",
    "print(FindSeq(PointsDjokovicMiddle,k,Stat='Forced Error',serve=False,result=False)[:3],'\\n')\n",
    "\n",
    "print('Winners') \n",
    "print(FindSeq(PointsFedererMiddle,k,Stat='Winner',serve=False, result=False)[:3])\n",
    "print(FindSeq(PointsNadalMiddle,k,Stat='Winner',serve=False,result=False)[:3])\n",
    "print(FindSeq(PointsDjokovicMiddle,k,Stat='Winner',serve=False,result=False)[:3],'\\n')\n",
    " "
   ]
  },
  {
   "cell_type": "code",
   "execution_count": 6,
   "metadata": {},
   "outputs": [
    {
     "name": "stdout",
     "output_type": "stream",
     "text": [
      "Most Frequent Patterns When Winning\n",
      "Forced Errors\n",
      "[(69, ('Backhand Paralelo', 'Backhand Paralelo', 'Backhand Paralelo')), (63, ('Forehand Cruzado', 'Forehand Cruzado', 'Forehand Paralelo')), (53, ('Wide Serve', 'Forehand Meio', 'Forehand Paralelo'))]\n",
      "[(84, ('Down The T Serve', 'Backhand Meio', 'Forehand Paralelo')), (83, ('Forehand Cruzado', 'Backhand Cruzado', 'Forehand Cruzado')), (81, ('Backhand Meio', 'Forehand Cruzado', 'Forehand Cruzado'))]\n",
      "[(114, ('Backhand Paralelo', 'Backhand Paralelo', 'Backhand Paralelo')), (110, ('Forehand Cruzado', 'Forehand Cruzado', 'Forehand Cruzado')), (107, ('Forehand Cruzado', 'Forehand Cruzado', 'Forehand Paralelo'))] \n",
      "\n",
      "Winners\n",
      "[(106, ('Wide Serve', 'Forehand Meio', 'Forehand Paralelo')), (64, ('Down The T Serve', 'Forehand Meio', 'Forehand Cruzado')), (64, ('Down The T Serve', 'Backhand Meio', 'Forehand Cruzado'))]\n",
      "[(118, ('Wide Serve', 'Backhand Meio', 'Forehand Cruzado')), (101, ('Forehand Paralelo', 'Backhand Paralelo', 'Forehand Paralelo')), (97, ('Forehand Paralelo', 'Backhand Meio', 'Forehand Cruzado'))]\n",
      "[(101, ('Forehand Cruzado', 'Forehand Cruzado', 'Forehand Paralelo')), (97, ('Backhand Paralelo', 'Backhand Paralelo', 'Backhand Paralelo')), (82, ('Forehand Paralelo', 'Backhand Paralelo', 'Backhand Paralelo'))] \n",
      "\n",
      "Most frequent Receiving Patterns When Winning\n",
      "Forced Errors\n",
      "[(82, ('Backhand Paralelo', 'Backhand Paralelo', 'Backhand Paralelo')), (76, ('Forehand Cruzado', 'Forehand Cruzado', 'Forehand Paralelo')), (69, ('Backhand Meio', 'Forehand Cruzado', 'Forehand Cruzado'))]\n",
      "[(102, ('Forehand Cruzado', 'Backhand Cruzado', 'Forehand Cruzado')), (64, ('Forehand Paralelo', 'Backhand Paralelo', 'Forehand Cruzado')), (63, ('Backhand Cruzado', 'Forehand Cruzado', 'Backhand Cruzado'))]\n",
      "[(140, ('Forehand Cruzado', 'Forehand Cruzado', 'Forehand Cruzado')), (131, ('Forehand Cruzado', 'Forehand Cruzado', 'Forehand Paralelo')), (131, ('Backhand Paralelo', 'Backhand Paralelo', 'Backhand Paralelo'))] \n",
      "\n",
      "Winners\n",
      "[(88, ('Backhand Paralelo', 'Backhand Paralelo', 'Backhand Paralelo')), (82, ('Forehand Cruzado', 'Forehand Cruzado', 'Forehand Paralelo')), (52, ('Forehand Paralelo', 'Backhand Paralelo', 'Backhand Paralelo'))]\n",
      "[(96, ('Forehand Paralelo', 'Backhand Paralelo', 'Forehand Cruzado')), (72, ('Forehand Paralelo', 'Backhand Meio', 'Forehand Cruzado')), (65, ('Forehand Cruzado', 'Backhand Cruzado', 'Forehand Cruzado'))]\n",
      "[(141, ('Forehand Cruzado', 'Forehand Cruzado', 'Forehand Cruzado')), (104, ('Forehand Cruzado', 'Forehand Cruzado', 'Forehand Paralelo')), (102, ('Backhand Meio', 'Forehand Cruzado', 'Forehand Cruzado'))] \n",
      "\n",
      "Most frequent Receiving Patterns When Losing\n",
      "Forced Errors\n",
      "[(72, ('Backhand Paralelo', 'Backhand Paralelo', 'Backhand Paralelo')), (68, ('Forehand Cruzado', 'Forehand Cruzado', 'Forehand Paralelo')), (60, ('Backhand Meio', 'Forehand Cruzado', 'Forehand Cruzado'))]\n",
      "[(87, ('Wide Serve', 'Backhand Meio', 'Forehand Paralelo')), (75, ('Forehand Cruzado', 'Backhand Cruzado', 'Forehand Cruzado')), (72, ('Backhand Meio', 'Forehand Paralelo', 'Forehand Paralelo'))]\n",
      "[(124, ('Backhand Paralelo', 'Backhand Paralelo', 'Backhand Paralelo')), (100, ('Backhand Meio', 'Forehand Cruzado', 'Forehand Cruzado')), (87, ('Forehand Cruzado', 'Forehand Cruzado', 'Forehand Cruzado'))] \n",
      "\n",
      "Winners\n",
      "[(67, ('Backhand Paralelo', 'Backhand Paralelo', 'Backhand Paralelo')), (53, ('Wide Serve', 'BH Slice Meio', 'Forehand Cruzado')), (50, ('Forehand Cruzado', 'Forehand Cruzado', 'Forehand Cruzado'))]\n",
      "[(115, ('Wide Serve', 'Backhand Meio', 'Forehand Paralelo')), (77, ('Forehand Cruzado', 'Backhand Cruzado', 'Forehand Cruzado')), (75, ('Wide Serve', 'Backhand Cruzado', 'Forehand Paralelo'))]\n",
      "[(114, ('Forehand Cruzado', 'Forehand Cruzado', 'Forehand Paralelo')), (110, ('Forehand Cruzado', 'Forehand Cruzado', 'Forehand Cruzado')), (104, ('Backhand Meio', 'Forehand Cruzado', 'Forehand Cruzado'))] \n",
      "\n"
     ]
    }
   ],
   "source": [
    "print('Most Frequent Patterns When Winning')\n",
    "print('Forced Errors') \n",
    "print(FindSeq(PointsFedererMiddle,k,Stat='Forced Error',serve=True, result=True)[:3])\n",
    "print(FindSeq(PointsNadalMiddle,k,Stat='Forced Error',serve=True,result=True)[:3])\n",
    "print(FindSeq(PointsDjokovicMiddle,k,Stat='Forced Error',serve=True,result=True)[:3],'\\n')\n",
    " \n",
    "print('Winners')  \n",
    "print(FindSeq(PointsFedererMiddle,k,Stat='Winner',serve=True, result=True)[:3])\n",
    "print(FindSeq(PointsNadalMiddle,k,Stat='Winner',serve=True,result=True)[:3])\n",
    "print(FindSeq(PointsDjokovicMiddle,k,Stat='Winner',serve=True,result=True)[:3],'\\n')\n",
    " \n",
    "print('Most frequent Receiving Patterns When Winning')\n",
    "print('Forced Errors')\n",
    "print(FindSeq(PointsFedererMiddle,k,Stat='Forced Error',serve=False, result=True)[:3])\n",
    "print(FindSeq(PointsNadalMiddle,k,Stat='Forced Error',serve=False,result=True)[:3])\n",
    "print(FindSeq(PointsDjokovicMiddle,k,Stat='Forced Error',serve=False,result=True)[:3],'\\n')\n",
    "\n",
    "print('Winners') \n",
    "print(FindSeq(PointsFedererMiddle,k,Stat='Winner',serve=False, result=True)[:3])\n",
    "print(FindSeq(PointsNadalMiddle,k,Stat='Winner',serve=False,result=True)[:3])\n",
    "print(FindSeq(PointsDjokovicMiddle,k,Stat='Winner',serve=False,result=True)[:3],'\\n')\n",
    " \n",
    "print('Most frequent Receiving Patterns When Losing')\n",
    "print('Forced Errors')\n",
    "print(FindSeq(PointsFedererMiddle,k,Stat='Forced Error',serve=False, result=False)[:3])\n",
    "print(FindSeq(PointsNadalMiddle,k,Stat='Forced Error',serve=False,result=False)[:3])\n",
    "print(FindSeq(PointsDjokovicMiddle,k,Stat='Forced Error',serve=False,result=False)[:3],'\\n')\n",
    "\n",
    "print('Winners') \n",
    "print(FindSeq(PointsFedererMiddle,k,Stat='Winner',serve=False, result=False)[:3])\n",
    "print(FindSeq(PointsNadalMiddle,k,Stat='Winner',serve=False,result=False)[:3])\n",
    "print(FindSeq(PointsDjokovicMiddle,k,Stat='Winner',serve=False,result=False)[:3],'\\n')"
   ]
  },
  {
   "cell_type": "code",
   "execution_count": 7,
   "metadata": {},
   "outputs": [
    {
     "name": "stdout",
     "output_type": "stream",
     "text": [
      "Most Frequent Patterns When Winning\n",
      "Forced Errors\n",
      "[(62, ('Backhand Paralelo', 'Backhand Paralelo', 'Backhand Paralelo')), (54, ('Forehand Cruzado', 'Forehand Cruzado', 'Forehand Cruzado')), (52, ('Forehand Cruzado', 'Forehand Cruzado', 'Forehand Paralelo'))]\n",
      "[(89, ('Forehand Paralelo', 'Backhand Paralelo', 'Forehand Paralelo')), (54, ('Down The T Serve', 'Backhand Meio', 'Forehand Paralelo')), (54, ('Backhand Paralelo', 'Forehand Paralelo', 'Backhand Paralelo'))]\n",
      "[(89, ('Forehand Cruzado', 'Forehand Cruzado', 'Forehand Paralelo')), (86, ('Backhand Paralelo', 'Backhand Paralelo', 'Backhand Paralelo')), (77, ('Forehand Cruzado', 'Forehand Cruzado', 'Forehand Cruzado'))] \n",
      "\n",
      "Winners\n",
      "[(77, ('Wide Serve', 'Backhand Meio', 'Forehand Cruzado')), (68, ('Wide Serve', 'Forehand Meio', 'Forehand Paralelo')), (48, ('Down The T Serve', 'Forehand Meio', 'Forehand Cruzado'))]\n",
      "[(82, ('Forehand Paralelo', 'Backhand Paralelo', 'Forehand Paralelo')), (64, ('Forehand Paralelo', 'Backhand Meio', 'Forehand Paralelo')), (62, ('Forehand Cruzado', 'Backhand Cruzado', 'Forehand Cruzado'))]\n",
      "[(96, ('Backhand Paralelo', 'Backhand Paralelo', 'Backhand Paralelo')), (80, ('Forehand Cruzado', 'Forehand Cruzado', 'Forehand Paralelo')), (62, ('Forehand Cruzado', 'Forehand Cruzado', 'Forehand Cruzado'))] \n",
      "\n",
      "Most frequent Receiving Patterns When Winning\n",
      "Forced Errors\n",
      "[(52, ('Forehand Cruzado', 'Forehand Cruzado', 'Forehand Paralelo')), (40, ('Backhand Meio', 'Forehand Cruzado', 'Forehand Cruzado')), (37, ('Forehand Cruzado', 'Forehand Cruzado', 'Forehand Cruzado'))]\n",
      "[(77, ('Forehand Cruzado', 'Backhand Cruzado', 'Forehand Cruzado')), (52, ('Backhand Cruzado', 'Forehand Cruzado', 'Backhand Cruzado')), (48, ('Backhand Cruzado', 'Forehand Cruzado', 'Backhand Paralelo'))]\n",
      "[(131, ('Backhand Paralelo', 'Backhand Paralelo', 'Backhand Paralelo')), (78, ('Forehand Cruzado', 'Forehand Cruzado', 'Forehand Paralelo')), (65, ('Backhand Meio', 'Forehand Paralelo', 'Backhand Paralelo'))] \n",
      "\n",
      "Winners\n",
      "[(59, ('Forehand Cruzado', 'Forehand Cruzado', 'Forehand Paralelo')), (57, ('Backhand Paralelo', 'Backhand Paralelo', 'Backhand Paralelo')), (40, ('Forehand Cruzado', 'Forehand Cruzado', 'Forehand Meio'))]\n",
      "[(67, ('Forehand Paralelo', 'Backhand Paralelo', 'Forehand Cruzado')), (58, ('Forehand Cruzado', 'Backhand Cruzado', 'Forehand Cruzado')), (46, ('Forehand Paralelo', 'Backhand Paralelo', 'Forehand Paralelo'))]\n",
      "[(98, ('Backhand Paralelo', 'Backhand Paralelo', 'Backhand Paralelo')), (65, ('Forehand Cruzado', 'Forehand Cruzado', 'Forehand Paralelo')), (63, ('Forehand Cruzado', 'Forehand Cruzado', 'Forehand Cruzado'))] \n",
      "\n",
      "Most frequent Receiving Patterns When Losing\n",
      "Forced Errors\n",
      "[(56, ('Backhand Paralelo', 'Backhand Paralelo', 'Backhand Paralelo')), (55, ('Forehand Cruzado', 'Forehand Cruzado', 'Forehand Cruzado')), (54, ('Forehand Cruzado', 'Forehand Cruzado', 'Forehand Paralelo'))]\n",
      "[(57, ('Forehand Paralelo', 'Backhand Paralelo', 'Forehand Paralelo')), (45, ('Backhand Meio', 'Forehand Paralelo', 'Forehand Paralelo')), (44, ('Forehand Cruzado', 'Backhand Cruzado', 'Forehand Cruzado'))]\n",
      "[(78, ('Backhand Paralelo', 'Backhand Paralelo', 'Backhand Paralelo')), (67, ('Backhand Meio', 'Forehand Cruzado', 'Forehand Cruzado')), (63, ('Forehand Cruzado', 'Forehand Cruzado', 'Forehand Paralelo'))] \n",
      "\n",
      "Winners\n",
      "[(55, ('Backhand Paralelo', 'Backhand Paralelo', 'Backhand Paralelo')), (47, ('Wide Serve', 'Forehand Meio', 'Forehand Paralelo')), (45, ('Wide Serve', 'BH Slice Paralelo', 'Forehand Paralelo'))]\n",
      "[(73, ('Wide Serve', 'Backhand Meio', 'Forehand Paralelo')), (53, ('Wide Serve', 'Backhand Meio', 'Forehand Cruzado')), (52, ('Down The T Serve', 'Backhand Meio', 'Forehand Paralelo'))]\n",
      "[(116, ('Backhand Paralelo', 'Backhand Paralelo', 'Backhand Paralelo')), (102, ('Forehand Cruzado', 'Forehand Cruzado', 'Forehand Cruzado')), (98, ('Forehand Cruzado', 'Forehand Cruzado', 'Forehand Paralelo'))] \n",
      "\n"
     ]
    }
   ],
   "source": [
    "print('Most Frequent Patterns When Winning')\n",
    "print('Forced Errors') \n",
    "print(FindSeq(PointsFedererEnd,k,Stat='Forced Error',serve=True, result=True)[:3])\n",
    "print(FindSeq(PointsNadalEnd,k,Stat='Forced Error',serve=True,result=True)[:3])\n",
    "print(FindSeq(PointsDjokovicEnd,k,Stat='Forced Error',serve=True,result=True)[:3],'\\n')\n",
    " \n",
    "print('Winners')  \n",
    "print(FindSeq(PointsFedererEnd,k,Stat='Winner',serve=True, result=True)[:3])\n",
    "print(FindSeq(PointsNadalEnd,k,Stat='Winner',serve=True,result=True)[:3])\n",
    "print(FindSeq(PointsDjokovicEnd,k,Stat='Winner',serve=True,result=True)[:3],'\\n')\n",
    " \n",
    "print('Most frequent Receiving Patterns When Winning')\n",
    "print('Forced Errors')\n",
    "print(FindSeq(PointsFedererEnd,k,Stat='Forced Error',serve=False, result=True)[:3])\n",
    "print(FindSeq(PointsNadalEnd,k,Stat='Forced Error',serve=False,result=True)[:3])\n",
    "print(FindSeq(PointsDjokovicEnd,k,Stat='Forced Error',serve=False,result=True)[:3],'\\n')\n",
    "\n",
    "print('Winners') \n",
    "print(FindSeq(PointsFedererEnd,k,Stat='Winner',serve=False, result=True)[:3])\n",
    "print(FindSeq(PointsNadalEnd,k,Stat='Winner',serve=False,result=True)[:3])\n",
    "print(FindSeq(PointsDjokovicEnd,k,Stat='Winner',serve=False,result=True)[:3],'\\n')\n",
    " \n",
    "print('Most frequent Receiving Patterns When Losing')\n",
    "print('Forced Errors')\n",
    "print(FindSeq(PointsFedererEnd,k,Stat='Forced Error',serve=False, result=False)[:3])\n",
    "print(FindSeq(PointsNadalEnd,k,Stat='Forced Error',serve=False,result=False)[:3])\n",
    "print(FindSeq(PointsDjokovicEnd,k,Stat='Forced Error',serve=False,result=False)[:3],'\\n')\n",
    "\n",
    "print('Winners') \n",
    "print(FindSeq(PointsFedererEnd,k,Stat='Winner',serve=False, result=False)[:3])\n",
    "print(FindSeq(PointsNadalEnd,k,Stat='Winner',serve=False,result=False)[:3])\n",
    "print(FindSeq(PointsDjokovicEnd,k,Stat='Winner',serve=False,result=False)[:3],'\\n')"
   ]
  },
  {
   "cell_type": "code",
   "execution_count": 9,
   "metadata": {},
   "outputs": [],
   "source": [
    "GPStart,BPStart,DeuceStart = KeyPointsData(PointsFedererStart)\n",
    "GPMiddle,BPMiddle,DeuceMiddle = KeyPointsData(PointsFedererMiddle)\n",
    "GPEnd,BPEnd,DeuceEnd = KeyPointsData(PointsFedererEnd)"
   ]
  },
  {
   "cell_type": "code",
   "execution_count": 11,
   "metadata": {},
   "outputs": [
    {
     "name": "stdout",
     "output_type": "stream",
     "text": [
      "[(46, ('Backhand Meio', 'Forehand Cruzado', 'Forehand Cruzado')), (46, ('Forehand Cruzado', 'Forehand Cruzado', 'Forehand Paralelo')), (41, ('Wide Serve', 'Backhand Meio', 'Forehand Cruzado'))]\n"
     ]
    }
   ],
   "source": [
    "#Picking only last 3\n",
    "print(FindSeqServe(PointsFedererStart,k,Stat='Forced Error',serve=True, result=True)[:3])"
   ]
  },
  {
   "cell_type": "code",
   "execution_count": 11,
   "metadata": {},
   "outputs": [],
   "source": [
    "# if(string[3].isdigit()):\n",
    "#     recepcao = string[1:4]\n",
    "# else:\n",
    "#     recepcao = string[1:3]"
   ]
  },
  {
   "cell_type": "code",
   "execution_count": null,
   "metadata": {},
   "outputs": [],
   "source": []
  },
  {
   "cell_type": "code",
   "execution_count": 12,
   "metadata": {},
   "outputs": [],
   "source": [
    "# Take only Winners or Forced Errors. Take the last 4 shots. Find the Patterns there"
   ]
  }
 ],
 "metadata": {
  "kernelspec": {
   "display_name": "Python 3",
   "language": "python",
   "name": "python3"
  },
  "language_info": {
   "codemirror_mode": {
    "name": "ipython",
    "version": 3
   },
   "file_extension": ".py",
   "mimetype": "text/x-python",
   "name": "python",
   "nbconvert_exporter": "python",
   "pygments_lexer": "ipython3",
   "version": "3.12.4"
  }
 },
 "nbformat": 4,
 "nbformat_minor": 2
}
